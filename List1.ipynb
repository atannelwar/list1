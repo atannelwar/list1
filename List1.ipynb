{
 "cells": [
  {
   "cell_type": "markdown",
   "id": "c433cca2",
   "metadata": {},
   "source": [
    "# List"
   ]
  },
  {
   "cell_type": "markdown",
   "id": "da10af5c",
   "metadata": {},
   "source": [
    "# list are used to store multiple items in a single variable"
   ]
  },
  {
   "cell_type": "code",
   "execution_count": 3,
   "id": "4a4f6a10",
   "metadata": {},
   "outputs": [],
   "source": [
    "list = [\"mango\",\"chiku\",\"anar\"]"
   ]
  },
  {
   "cell_type": "code",
   "execution_count": 4,
   "id": "70b1806e",
   "metadata": {},
   "outputs": [
    {
     "name": "stdout",
     "output_type": "stream",
     "text": [
      "['mango', 'chiku', 'anar']\n"
     ]
    }
   ],
   "source": [
    "print(list)"
   ]
  },
  {
   "cell_type": "code",
   "execution_count": null,
   "id": "12a015ee",
   "metadata": {},
   "outputs": [],
   "source": []
  },
  {
   "cell_type": "code",
   "execution_count": 5,
   "id": "c28db735",
   "metadata": {},
   "outputs": [],
   "source": [
    "list = [\"mango\",\"chiku\",\"anar\"]"
   ]
  },
  {
   "cell_type": "markdown",
   "id": "e28970cc",
   "metadata": {},
   "source": [
    "# length"
   ]
  },
  {
   "cell_type": "markdown",
   "id": "c3298319",
   "metadata": {},
   "source": [
    "# to determine how many items a list has, use the len function"
   ]
  },
  {
   "cell_type": "code",
   "execution_count": 6,
   "id": "0104b3a5",
   "metadata": {},
   "outputs": [
    {
     "name": "stdout",
     "output_type": "stream",
     "text": [
      "3\n"
     ]
    }
   ],
   "source": [
    "print(len(list))"
   ]
  },
  {
   "cell_type": "markdown",
   "id": "cb78d35b",
   "metadata": {},
   "source": [
    "# type"
   ]
  },
  {
   "cell_type": "markdown",
   "id": "5d0397d2",
   "metadata": {},
   "source": [
    "# from python perspetive, list are defined as objects with the data type list"
   ]
  },
  {
   "cell_type": "code",
   "execution_count": 7,
   "id": "8c44b92a",
   "metadata": {},
   "outputs": [],
   "source": [
    "list = [\"mango\",\"chiku\",\"anar\"]"
   ]
  },
  {
   "cell_type": "code",
   "execution_count": 8,
   "id": "6e885348",
   "metadata": {},
   "outputs": [
    {
     "name": "stdout",
     "output_type": "stream",
     "text": [
      "<class 'list'>\n"
     ]
    }
   ],
   "source": [
    "print(type(list))"
   ]
  },
  {
   "cell_type": "markdown",
   "id": "53a4445d",
   "metadata": {},
   "source": [
    "# duplicates"
   ]
  },
  {
   "cell_type": "markdown",
   "id": "2c57b334",
   "metadata": {},
   "source": [
    "# since list are indexed, lists can have items with the same values"
   ]
  },
  {
   "cell_type": "code",
   "execution_count": 15,
   "id": "e78718a6",
   "metadata": {},
   "outputs": [],
   "source": [
    "list = [\"mango\",\"chiku\",\"anar\",\"mango\",\"anar\"]"
   ]
  },
  {
   "cell_type": "code",
   "execution_count": 16,
   "id": "26e09ee3",
   "metadata": {},
   "outputs": [
    {
     "name": "stdout",
     "output_type": "stream",
     "text": [
      "['mango', 'chiku', 'anar', 'mango', 'anar']\n"
     ]
    }
   ],
   "source": [
    "print(list)"
   ]
  },
  {
   "cell_type": "markdown",
   "id": "cbff0f6b",
   "metadata": {},
   "source": [
    "# negative indexing"
   ]
  },
  {
   "cell_type": "markdown",
   "id": "b89e76b4",
   "metadata": {},
   "source": [
    "# negative indexing means start from the end"
   ]
  },
  {
   "cell_type": "code",
   "execution_count": 20,
   "id": "d56044c9",
   "metadata": {},
   "outputs": [],
   "source": [
    "list = [\"mango\",\"chiku\",\"anar\"]"
   ]
  },
  {
   "cell_type": "code",
   "execution_count": 22,
   "id": "a0df5ab1",
   "metadata": {},
   "outputs": [
    {
     "name": "stdout",
     "output_type": "stream",
     "text": [
      "anar\n"
     ]
    }
   ],
   "source": [
    "print(list[-1])"
   ]
  },
  {
   "cell_type": "markdown",
   "id": "a8dd01ee",
   "metadata": {},
   "source": [
    "# insert"
   ]
  },
  {
   "cell_type": "markdown",
   "id": "9ab98dff",
   "metadata": {},
   "source": [
    "# to insert a  new list item, without replacing any of the existing values, we can use the insert method"
   ]
  },
  {
   "cell_type": "code",
   "execution_count": 25,
   "id": "1437682b",
   "metadata": {},
   "outputs": [],
   "source": [
    "list = [\"mango\",\"chiku\",\"anar\"]\n",
    "list.insert(3,\"apple\")"
   ]
  },
  {
   "cell_type": "code",
   "execution_count": 26,
   "id": "98e04ea6",
   "metadata": {},
   "outputs": [
    {
     "name": "stdout",
     "output_type": "stream",
     "text": [
      "['mango', 'chiku', 'anar', 'apple']\n"
     ]
    }
   ],
   "source": [
    "print(list)"
   ]
  },
  {
   "cell_type": "code",
   "execution_count": null,
   "id": "adb3405a",
   "metadata": {},
   "outputs": [],
   "source": []
  },
  {
   "cell_type": "markdown",
   "id": "b5dab7d8",
   "metadata": {},
   "source": [
    "# Append"
   ]
  },
  {
   "cell_type": "markdown",
   "id": "a401a0c0",
   "metadata": {},
   "source": [
    "# to add an item to the end of the list, use the append method"
   ]
  },
  {
   "cell_type": "code",
   "execution_count": 29,
   "id": "b815b76d",
   "metadata": {},
   "outputs": [
    {
     "name": "stdout",
     "output_type": "stream",
     "text": [
      "['mango', 'chiku', 'anar', 'almond']\n"
     ]
    }
   ],
   "source": [
    "list = [\"mango\",\"chiku\",\"anar\"]\n",
    "\n",
    "list.append(\"almond\")\n",
    "\n",
    "print(list)"
   ]
  },
  {
   "cell_type": "code",
   "execution_count": null,
   "id": "ed95be6f",
   "metadata": {},
   "outputs": [],
   "source": []
  },
  {
   "cell_type": "markdown",
   "id": "185a23c5",
   "metadata": {},
   "source": [
    "# Extend"
   ]
  },
  {
   "cell_type": "markdown",
   "id": "3737efce",
   "metadata": {},
   "source": [
    "# to append element from another list to the current lis, luse the extend method"
   ]
  },
  {
   "cell_type": "code",
   "execution_count": 30,
   "id": "9333193f",
   "metadata": {},
   "outputs": [
    {
     "name": "stdout",
     "output_type": "stream",
     "text": [
      "['mango', 'chiku', 'anar', 'badam', 'papaya', 'blueberry']\n"
     ]
    }
   ],
   "source": [
    "list = [\"mango\",\"chiku\",\"anar\"]\n",
    "tropical =[\"badam\",\"papaya\",\"blueberry\"]\n",
    "\n",
    "list.extend(tropical)\n",
    "\n",
    "print(list)\n"
   ]
  },
  {
   "cell_type": "code",
   "execution_count": null,
   "id": "7cc3b867",
   "metadata": {},
   "outputs": [],
   "source": []
  },
  {
   "cell_type": "markdown",
   "id": "698b8efe",
   "metadata": {},
   "source": [
    "# Remove"
   ]
  },
  {
   "cell_type": "markdown",
   "id": "00b25d9f",
   "metadata": {},
   "source": [
    "# the remove method removes the specified item"
   ]
  },
  {
   "cell_type": "code",
   "execution_count": 34,
   "id": "c9bc73fd",
   "metadata": {},
   "outputs": [
    {
     "name": "stdout",
     "output_type": "stream",
     "text": [
      "['mango', 'chiku']\n"
     ]
    }
   ],
   "source": [
    "list = [\"mango\",\"chiku\",\"anar\"]\n",
    "list.remove(\"anar\")\n",
    "print(list)"
   ]
  },
  {
   "cell_type": "markdown",
   "id": "4f975034",
   "metadata": {},
   "source": [
    "# pop"
   ]
  },
  {
   "cell_type": "markdown",
   "id": "2b4d179e",
   "metadata": {},
   "source": [
    "# the pop method removes the specified index"
   ]
  },
  {
   "cell_type": "code",
   "execution_count": 35,
   "id": "e2df9e0a",
   "metadata": {},
   "outputs": [
    {
     "name": "stdout",
     "output_type": "stream",
     "text": [
      "['mango', 'anar']\n"
     ]
    }
   ],
   "source": [
    "list = [\"mango\",\"chiku\",\"anar\"]\n",
    "list.pop(1)\n",
    "print(list)"
   ]
  },
  {
   "cell_type": "markdown",
   "id": "280a1f3b",
   "metadata": {},
   "source": [
    "# Clear "
   ]
  },
  {
   "cell_type": "markdown",
   "id": "268d3f07",
   "metadata": {},
   "source": [
    "# the clear method empties the list"
   ]
  },
  {
   "cell_type": "code",
   "execution_count": 36,
   "id": "2dcf6bab",
   "metadata": {},
   "outputs": [
    {
     "name": "stdout",
     "output_type": "stream",
     "text": [
      "[]\n"
     ]
    }
   ],
   "source": [
    "list = [\"mango\",\"chiku\",\"anar\"]\n",
    "list.clear()\n",
    "print(list)"
   ]
  },
  {
   "cell_type": "markdown",
   "id": "e16b3c58",
   "metadata": {},
   "source": [
    "# delete"
   ]
  },
  {
   "cell_type": "markdown",
   "id": "39b0a9a9",
   "metadata": {},
   "source": [
    "# the del keyword also removes the specified index"
   ]
  },
  {
   "cell_type": "code",
   "execution_count": 38,
   "id": "b6ef776f",
   "metadata": {},
   "outputs": [
    {
     "name": "stdout",
     "output_type": "stream",
     "text": [
      "['chiku', 'anar']\n"
     ]
    }
   ],
   "source": [
    "list = [\"mango\",\"chiku\",\"anar\"]\n",
    "\n",
    "del list[0]\n",
    "print(list)"
   ]
  },
  {
   "cell_type": "markdown",
   "id": "a2cd5c49",
   "metadata": {},
   "source": [
    "# Range"
   ]
  },
  {
   "cell_type": "markdown",
   "id": "74146146",
   "metadata": {},
   "source": [
    "# You can specify a range of indexes by specifying where to start and where to end the range."
   ]
  },
  {
   "cell_type": "code",
   "execution_count": 43,
   "id": "73b65659",
   "metadata": {},
   "outputs": [
    {
     "name": "stdout",
     "output_type": "stream",
     "text": [
      "['pineapple', 'lemon', 'lichi']\n"
     ]
    }
   ],
   "source": [
    "list = [\"chiku\", \"anar\", \"pineapple\", \"lemon\", \"lichi\", \"chiku\", \"mango\"]\n",
    "print(list[2:5])"
   ]
  },
  {
   "cell_type": "code",
   "execution_count": null,
   "id": "2d2dfa46",
   "metadata": {},
   "outputs": [],
   "source": []
  }
 ],
 "metadata": {
  "kernelspec": {
   "display_name": "Python 3 (ipykernel)",
   "language": "python",
   "name": "python3"
  },
  "language_info": {
   "codemirror_mode": {
    "name": "ipython",
    "version": 3
   },
   "file_extension": ".py",
   "mimetype": "text/x-python",
   "name": "python",
   "nbconvert_exporter": "python",
   "pygments_lexer": "ipython3",
   "version": "3.11.7"
  }
 },
 "nbformat": 4,
 "nbformat_minor": 5
}
