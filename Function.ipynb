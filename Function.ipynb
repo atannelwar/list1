{
 "cells": [
  {
   "cell_type": "markdown",
   "id": "e8088085",
   "metadata": {},
   "source": [
    "# Function"
   ]
  },
  {
   "cell_type": "markdown",
   "id": "95cdd1e8",
   "metadata": {},
   "source": [
    "# A function is a block of code which only runs when it is called."
   ]
  },
  {
   "cell_type": "code",
   "execution_count": 4,
   "id": "43e1c355",
   "metadata": {},
   "outputs": [
    {
     "name": "stdout",
     "output_type": "stream",
     "text": [
      "this is a dictionary\n",
      "{'bike1': 'shine', 'bike2': 'pulsar', 'bike3': 'bullet'}\n"
     ]
    }
   ],
   "source": [
    "print('this is a dictionary')\n",
    "\n",
    "def dictName(val1,val2,val3):\n",
    "    join_Name = f'{val1} {val2} {val3}'\n",
    "    result = {\n",
    "        'bike1': val1,\n",
    "        'bike2': val2,\n",
    "        'bike3': val3,\n",
    "    }\n",
    "    return result\n",
    "\n",
    "\n",
    "val1 = \"shine\"\n",
    "val2 = \"pulsar\"\n",
    "val3 = \"bullet\"\n",
    "output = dictName(val1,val2,val3)\n",
    "    \n",
    "\n",
    "print(output) \n",
    "    \n",
    "    \n",
    "    \n",
    "    \n",
    "    \n",
    "    "
   ]
  },
  {
   "cell_type": "code",
   "execution_count": null,
   "id": "225f4c06",
   "metadata": {},
   "outputs": [],
   "source": []
  },
  {
   "cell_type": "code",
   "execution_count": 33,
   "id": "02a9b604",
   "metadata": {},
   "outputs": [
    {
     "name": "stdout",
     "output_type": "stream",
     "text": [
      "top of function\n",
      "botom of function\n",
      "inside function\n",
      "result=13\n",
      "final result\n",
      "13\n"
     ]
    }
   ],
   "source": [
    "print('top of function')\n",
    "\n",
    "def addValue(a,b):\n",
    "    print('inside function')\n",
    "    result = a+b\n",
    "    print(f'result={result}')\n",
    "    return result\n",
    "\n",
    "print('botom of function')\n",
    "\n",
    "addResult = addValue(5,8)\n",
    "\n",
    "print('final result')\n",
    "print(addResult)"
   ]
  },
  {
   "cell_type": "code",
   "execution_count": null,
   "id": "27a9cf13",
   "metadata": {},
   "outputs": [],
   "source": []
  },
  {
   "cell_type": "code",
   "execution_count": null,
   "id": "543d13a2",
   "metadata": {},
   "outputs": [],
   "source": []
  },
  {
   "cell_type": "code",
   "execution_count": 34,
   "id": "f93aa417",
   "metadata": {},
   "outputs": [
    {
     "name": "stdout",
     "output_type": "stream",
     "text": [
      "hello from a function\n"
     ]
    }
   ],
   "source": [
    "def my_function():\n",
    "    print(\"hello from a function\")\n",
    "    \n",
    "my_function()"
   ]
  },
  {
   "cell_type": "code",
   "execution_count": null,
   "id": "4e2fc9ec",
   "metadata": {},
   "outputs": [],
   "source": []
  },
  {
   "cell_type": "code",
   "execution_count": 39,
   "id": "48dd2072",
   "metadata": {},
   "outputs": [
    {
     "name": "stdout",
     "output_type": "stream",
     "text": [
      "rahulkapoor\n",
      "akashkapoor\n",
      "akshaykapoor\n"
     ]
    }
   ],
   "source": [
    "def my_function(fname):\n",
    "    print(fname + \"kapoor\")\n",
    "    \n",
    "my_function (\"rahul\")\n",
    "my_function (\"akash\")\n",
    "my_function (\"akshay\")"
   ]
  },
  {
   "cell_type": "code",
   "execution_count": null,
   "id": "500abe3e",
   "metadata": {},
   "outputs": [],
   "source": []
  },
  {
   "cell_type": "code",
   "execution_count": 40,
   "id": "d96514f2",
   "metadata": {},
   "outputs": [
    {
     "name": "stdout",
     "output_type": "stream",
     "text": [
      "akash kapoor\n"
     ]
    }
   ],
   "source": [
    "def my_function(fname, lname):\n",
    "    print(fname + \" \" + lname)\n",
    "    \n",
    "my_function(\"akash\", \"kapoor\")"
   ]
  },
  {
   "cell_type": "code",
   "execution_count": null,
   "id": "34ced526",
   "metadata": {},
   "outputs": [],
   "source": []
  },
  {
   "cell_type": "code",
   "execution_count": null,
   "id": "47ea2659",
   "metadata": {},
   "outputs": [],
   "source": []
  },
  {
   "cell_type": "code",
   "execution_count": 44,
   "id": "450b237f",
   "metadata": {},
   "outputs": [
    {
     "name": "stdout",
     "output_type": "stream",
     "text": [
      "the youngest child is akshay\n"
     ]
    }
   ],
   "source": [
    "def my_function(*kids):\n",
    "    print(\"the youngest child is \" +\n",
    "kids[2])\n",
    "    \n",
    "my_function(\"akash\",\"rahul\",\"akshay\")"
   ]
  },
  {
   "cell_type": "code",
   "execution_count": null,
   "id": "f6ec5093",
   "metadata": {},
   "outputs": [],
   "source": []
  }
 ],
 "metadata": {
  "kernelspec": {
   "display_name": "Python 3 (ipykernel)",
   "language": "python",
   "name": "python3"
  },
  "language_info": {
   "codemirror_mode": {
    "name": "ipython",
    "version": 3
   },
   "file_extension": ".py",
   "mimetype": "text/x-python",
   "name": "python",
   "nbconvert_exporter": "python",
   "pygments_lexer": "ipython3",
   "version": "3.11.7"
  }
 },
 "nbformat": 4,
 "nbformat_minor": 5
}
