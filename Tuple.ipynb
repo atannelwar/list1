{
 "cells": [
  {
   "cell_type": "markdown",
   "id": "41b1dfea",
   "metadata": {},
   "source": [
    "# Tuple"
   ]
  },
  {
   "cell_type": "markdown",
   "id": "2ae5f140",
   "metadata": {},
   "source": [
    "# tuples are used to store multiple items in a single variable"
   ]
  },
  {
   "cell_type": "code",
   "execution_count": 2,
   "id": "a6fc9537",
   "metadata": {},
   "outputs": [
    {
     "name": "stdout",
     "output_type": "stream",
     "text": [
      "('honda', 'bajaj', 'hero')\n"
     ]
    }
   ],
   "source": [
    "tuple = (\"honda\",\"bajaj\",\"hero\")\n",
    "\n",
    "print(tuple)"
   ]
  },
  {
   "cell_type": "markdown",
   "id": "d7334a9b",
   "metadata": {},
   "source": [
    "# duplicate"
   ]
  },
  {
   "cell_type": "markdown",
   "id": "db382f79",
   "metadata": {},
   "source": [
    "# tuple are indexed, they can have items with the same value"
   ]
  },
  {
   "cell_type": "code",
   "execution_count": 3,
   "id": "2fb959cd",
   "metadata": {},
   "outputs": [
    {
     "name": "stdout",
     "output_type": "stream",
     "text": [
      "('honda', 'bajaj', 'hero', 'honda', 'hero')\n"
     ]
    }
   ],
   "source": [
    "tuple = (\"honda\",\"bajaj\",\"hero\",\"honda\",\"hero\")\n",
    "\n",
    "print(tuple)"
   ]
  },
  {
   "cell_type": "code",
   "execution_count": null,
   "id": "d41b3053",
   "metadata": {},
   "outputs": [],
   "source": []
  },
  {
   "cell_type": "markdown",
   "id": "2315bc0f",
   "metadata": {},
   "source": [
    "# length"
   ]
  },
  {
   "cell_type": "markdown",
   "id": "48f9e5f7",
   "metadata": {},
   "source": [
    "# to determine how many items a tuple has, use the length functon"
   ]
  },
  {
   "cell_type": "code",
   "execution_count": 8,
   "id": "84da1a1a",
   "metadata": {},
   "outputs": [
    {
     "name": "stdout",
     "output_type": "stream",
     "text": [
      "3\n"
     ]
    }
   ],
   "source": [
    "tuple = (\"honda\",\"bajaj\",\"hero\")\n",
    "print(len(tuple))"
   ]
  },
  {
   "cell_type": "code",
   "execution_count": null,
   "id": "13b1b8f2",
   "metadata": {},
   "outputs": [],
   "source": []
  },
  {
   "cell_type": "markdown",
   "id": "732a07ae",
   "metadata": {},
   "source": [
    "# Type()"
   ]
  },
  {
   "cell_type": "markdown",
   "id": "812a54f5",
   "metadata": {},
   "source": [
    "# from python perspective, tuples are define as objects with the data type tuple"
   ]
  },
  {
   "cell_type": "code",
   "execution_count": 9,
   "id": "2a886417",
   "metadata": {},
   "outputs": [
    {
     "name": "stdout",
     "output_type": "stream",
     "text": [
      "<class 'tuple'>\n"
     ]
    }
   ],
   "source": [
    "tuple = (\"honda\",\"bajaj\",\"hero\")\n",
    "\n",
    "print(type(tuple))"
   ]
  },
  {
   "cell_type": "code",
   "execution_count": null,
   "id": "90631a49",
   "metadata": {},
   "outputs": [],
   "source": []
  },
  {
   "cell_type": "markdown",
   "id": "78f7e591",
   "metadata": {},
   "source": [
    "# Access tuple items"
   ]
  },
  {
   "cell_type": "markdown",
   "id": "07db6852",
   "metadata": {},
   "source": [
    "# your can access tuple items by refferring to the index number, inside square brackets"
   ]
  },
  {
   "cell_type": "code",
   "execution_count": 10,
   "id": "e18e880e",
   "metadata": {},
   "outputs": [
    {
     "name": "stdout",
     "output_type": "stream",
     "text": [
      "bajaj\n"
     ]
    }
   ],
   "source": [
    "tuple = (\"honda\",\"bajaj\",\"hero\")\n",
    "\n",
    "print(tuple[1])"
   ]
  },
  {
   "cell_type": "code",
   "execution_count": null,
   "id": "363b0ec0",
   "metadata": {},
   "outputs": [],
   "source": []
  },
  {
   "cell_type": "markdown",
   "id": "a1b153ad",
   "metadata": {},
   "source": [
    "# Negative indexing"
   ]
  },
  {
   "cell_type": "markdown",
   "id": "9be17f74",
   "metadata": {},
   "source": [
    "# negative indexing means start form the end"
   ]
  },
  {
   "cell_type": "code",
   "execution_count": 13,
   "id": "dcd32382",
   "metadata": {},
   "outputs": [
    {
     "name": "stdout",
     "output_type": "stream",
     "text": [
      "hero\n"
     ]
    }
   ],
   "source": [
    "tuple = (\"honda\",\"bajaj\",\"hero\")\n",
    "\n",
    "print(tuple[-1])"
   ]
  },
  {
   "cell_type": "code",
   "execution_count": null,
   "id": "4e97704e",
   "metadata": {},
   "outputs": [],
   "source": []
  },
  {
   "cell_type": "markdown",
   "id": "4ea1ff57",
   "metadata": {},
   "source": [
    "# index"
   ]
  },
  {
   "cell_type": "markdown",
   "id": "856b30b1",
   "metadata": {},
   "source": [
    "# the indexmethod helps us to find the index or accurrence of an element in the tuple"
   ]
  },
  {
   "cell_type": "code",
   "execution_count": 18,
   "id": "78f32dcb",
   "metadata": {},
   "outputs": [
    {
     "data": {
      "text/plain": [
       "1"
      ]
     },
     "execution_count": 18,
     "metadata": {},
     "output_type": "execute_result"
    }
   ],
   "source": [
    "tuple = (\"honda\",\"bajaj\",\"hero\")\n",
    "\n",
    "tuple.index(\"bajaj\")\n"
   ]
  },
  {
   "cell_type": "code",
   "execution_count": null,
   "id": "b081242d",
   "metadata": {},
   "outputs": [],
   "source": []
  },
  {
   "cell_type": "markdown",
   "id": "2caf89ac",
   "metadata": {},
   "source": [
    "# Add"
   ]
  },
  {
   "cell_type": "markdown",
   "id": "e3be4259",
   "metadata": {},
   "source": [
    "# Since tuples are immutable, they do not have a built-in append() method, but there are other ways to add items to a tuple.\n",
    "\n"
   ]
  },
  {
   "cell_type": "code",
   "execution_count": 20,
   "id": "0982d3e4",
   "metadata": {},
   "outputs": [
    {
     "name": "stdout",
     "output_type": "stream",
     "text": [
      "['honda', 'bajaj', 'hero', 'yamaha']\n"
     ]
    }
   ],
   "source": [
    "tuple = (\"honda\",\"bajaj\",\"hero\")\n",
    "y = list(tuple)\n",
    "y.append(\"yamaha\")\n",
    "tuple = (y)\n",
    "\n",
    "print(tuple)"
   ]
  },
  {
   "cell_type": "code",
   "execution_count": null,
   "id": "b221841e",
   "metadata": {},
   "outputs": [],
   "source": []
  },
  {
   "cell_type": "markdown",
   "id": "586f1cdf",
   "metadata": {},
   "source": [
    "# copy"
   ]
  },
  {
   "cell_type": "markdown",
   "id": "7a12a8c2",
   "metadata": {},
   "source": [
    "# There are ways to make a copy, one way is to use the built-in List method copy"
   ]
  },
  {
   "cell_type": "code",
   "execution_count": 21,
   "id": "419d619f",
   "metadata": {},
   "outputs": [
    {
     "name": "stdout",
     "output_type": "stream",
     "text": [
      "['honda', 'bajaj', 'hero']\n"
     ]
    }
   ],
   "source": [
    "list = [\"honda\",\"bajaj\",\"hero\"]\n",
    "list = list.copy()\n",
    "print(list)\n"
   ]
  },
  {
   "cell_type": "code",
   "execution_count": null,
   "id": "c78371e1",
   "metadata": {},
   "outputs": [],
   "source": []
  }
 ],
 "metadata": {
  "kernelspec": {
   "display_name": "Python 3 (ipykernel)",
   "language": "python",
   "name": "python3"
  },
  "language_info": {
   "codemirror_mode": {
    "name": "ipython",
    "version": 3
   },
   "file_extension": ".py",
   "mimetype": "text/x-python",
   "name": "python",
   "nbconvert_exporter": "python",
   "pygments_lexer": "ipython3",
   "version": "3.11.7"
  }
 },
 "nbformat": 4,
 "nbformat_minor": 5
}
