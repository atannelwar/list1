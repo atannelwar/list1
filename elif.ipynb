{
 "cells": [
  {
   "cell_type": "markdown",
   "id": "1fdf0b34",
   "metadata": {},
   "source": [
    "# Elif"
   ]
  },
  {
   "cell_type": "markdown",
   "id": "5f7f27f6",
   "metadata": {},
   "source": [
    "# The elif keyword is used in conditional statements (if statements), and is short for else if."
   ]
  },
  {
   "cell_type": "code",
   "execution_count": 1,
   "id": "86f4b59b",
   "metadata": {},
   "outputs": [
    {
     "name": "stdout",
     "output_type": "stream",
     "text": [
      "a and are equal\n"
     ]
    }
   ],
   "source": [
    "a = 55\n",
    "b = 55\n",
    "if b > a:\n",
    "    print(\"b is greater than a\")\n",
    "elif a == b:\n",
    "    print(\"a and are equal\")"
   ]
  },
  {
   "cell_type": "code",
   "execution_count": null,
   "id": "6cebc6be",
   "metadata": {},
   "outputs": [],
   "source": []
  },
  {
   "cell_type": "markdown",
   "id": "5f83a206",
   "metadata": {},
   "source": [
    "# Else "
   ]
  },
  {
   "cell_type": "markdown",
   "id": "90c88fe0",
   "metadata": {},
   "source": [
    "# the else keyword catches anything which isn't cought by th preceding conditions"
   ]
  },
  {
   "cell_type": "code",
   "execution_count": 2,
   "id": "67c8de00",
   "metadata": {},
   "outputs": [
    {
     "name": "stdout",
     "output_type": "stream",
     "text": [
      "a is greater than b\n"
     ]
    }
   ],
   "source": [
    "a = 500\n",
    "b = 300\n",
    "if b > a:\n",
    "    print(\"b is greater than a\")\n",
    "elif a == b:\n",
    "    print(\"a and b are equal\")\n",
    "else :\n",
    "    print(\"a is greater than b\")"
   ]
  },
  {
   "cell_type": "code",
   "execution_count": null,
   "id": "b09ba68f",
   "metadata": {},
   "outputs": [],
   "source": []
  },
  {
   "cell_type": "markdown",
   "id": "eb621417",
   "metadata": {},
   "source": [
    "# And"
   ]
  },
  {
   "cell_type": "markdown",
   "id": "3d9d0213",
   "metadata": {},
   "source": [
    "# the and keyword is a logical operatot and is used to combine conditional statememnts"
   ]
  },
  {
   "cell_type": "code",
   "execution_count": 3,
   "id": "960c2cad",
   "metadata": {},
   "outputs": [
    {
     "name": "stdout",
     "output_type": "stream",
     "text": [
      "both conditions are true\n"
     ]
    }
   ],
   "source": [
    "a = 300\n",
    "b = 100\n",
    "c = 600\n",
    "if a > b and c > a:\n",
    "    print(\"both conditions are true\")"
   ]
  },
  {
   "cell_type": "code",
   "execution_count": null,
   "id": "76b3e7e7",
   "metadata": {},
   "outputs": [],
   "source": []
  },
  {
   "cell_type": "markdown",
   "id": "48bee897",
   "metadata": {},
   "source": [
    "# Or"
   ]
  },
  {
   "cell_type": "markdown",
   "id": "33e3987e",
   "metadata": {},
   "source": [
    "# the or keyword is a logical operator, and is used to combine conditional statements"
   ]
  },
  {
   "cell_type": "code",
   "execution_count": 4,
   "id": "7dba8f0c",
   "metadata": {},
   "outputs": [
    {
     "name": "stdout",
     "output_type": "stream",
     "text": [
      "at least one of the conditions is true\n"
     ]
    }
   ],
   "source": [
    "a = 300\n",
    "b = 50\n",
    "c = 500\n",
    "if a > b or a > c:\n",
    "    print (\"at least one of the conditions is true\")"
   ]
  },
  {
   "cell_type": "code",
   "execution_count": null,
   "id": "c81a02f2",
   "metadata": {},
   "outputs": [],
   "source": []
  },
  {
   "cell_type": "markdown",
   "id": "b6a3ba27",
   "metadata": {},
   "source": [
    "# Not"
   ]
  },
  {
   "cell_type": "markdown",
   "id": "f7edb827",
   "metadata": {},
   "source": [
    "# the not keyword is a logical operator and is used to reverse the result of the conditional statement"
   ]
  },
  {
   "cell_type": "code",
   "execution_count": 5,
   "id": "b66e78d3",
   "metadata": {},
   "outputs": [
    {
     "name": "stdout",
     "output_type": "stream",
     "text": [
      "a is not greater than b\n"
     ]
    }
   ],
   "source": [
    "a = 45\n",
    "b = 300\n",
    "if not a > b:\n",
    "    print(\"a is not greater than b\")"
   ]
  },
  {
   "cell_type": "code",
   "execution_count": null,
   "id": "4632f3da",
   "metadata": {},
   "outputs": [],
   "source": []
  }
 ],
 "metadata": {
  "kernelspec": {
   "display_name": "Python 3 (ipykernel)",
   "language": "python",
   "name": "python3"
  },
  "language_info": {
   "codemirror_mode": {
    "name": "ipython",
    "version": 3
   },
   "file_extension": ".py",
   "mimetype": "text/x-python",
   "name": "python",
   "nbconvert_exporter": "python",
   "pygments_lexer": "ipython3",
   "version": "3.11.7"
  }
 },
 "nbformat": 4,
 "nbformat_minor": 5
}
