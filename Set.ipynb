{
 "cells": [
  {
   "cell_type": "markdown",
   "id": "24a31546",
   "metadata": {},
   "source": [
    "# Set"
   ]
  },
  {
   "cell_type": "markdown",
   "id": "8f7ee1c5",
   "metadata": {},
   "source": [
    "# Sets are used to store multiple items in a single variable"
   ]
  },
  {
   "cell_type": "markdown",
   "id": "82c7062b",
   "metadata": {},
   "source": [
    "# create set"
   ]
  },
  {
   "cell_type": "code",
   "execution_count": 2,
   "id": "009714cf",
   "metadata": {},
   "outputs": [
    {
     "data": {
      "text/plain": [
       "{'1', 'True', 'a'}"
      ]
     },
     "execution_count": 2,
     "metadata": {},
     "output_type": "execute_result"
    }
   ],
   "source": [
    "set1 = {'1','a',\"True\"}\n",
    "set1"
   ]
  },
  {
   "cell_type": "code",
   "execution_count": null,
   "id": "1c5c34f5",
   "metadata": {},
   "outputs": [],
   "source": []
  },
  {
   "cell_type": "markdown",
   "id": "e6030dbf",
   "metadata": {},
   "source": [
    "# Add"
   ]
  },
  {
   "cell_type": "markdown",
   "id": "553c23b2",
   "metadata": {},
   "source": [
    "# add an item to a set, using the add method"
   ]
  },
  {
   "cell_type": "code",
   "execution_count": 4,
   "id": "dd410919",
   "metadata": {},
   "outputs": [
    {
     "name": "stdout",
     "output_type": "stream",
     "text": [
      "{'55', '66', '75', '45'}\n"
     ]
    }
   ],
   "source": [
    "set = {\"45\",\"55\",\"66\"}\n",
    "\n",
    "set.add(\"75\")\n",
    "\n",
    "print(set)"
   ]
  },
  {
   "cell_type": "code",
   "execution_count": null,
   "id": "c3088f82",
   "metadata": {},
   "outputs": [],
   "source": []
  },
  {
   "cell_type": "markdown",
   "id": "25fde9bf",
   "metadata": {},
   "source": [
    "# Update"
   ]
  },
  {
   "cell_type": "markdown",
   "id": "1fce846e",
   "metadata": {},
   "source": [
    "# to add items from another set into the current set, use update method"
   ]
  },
  {
   "cell_type": "code",
   "execution_count": 5,
   "id": "58cb4bad",
   "metadata": {},
   "outputs": [
    {
     "name": "stdout",
     "output_type": "stream",
     "text": [
      "{'35', '45', '11', '55', '66', '25'}\n"
     ]
    }
   ],
   "source": [
    "set = {\"45\",\"55\",\"66\"}\n",
    "tropical = {\"25\",\"35\",\"11\"}\n",
    "\n",
    "set.update(tropical)\n",
    "\n",
    "print(set)"
   ]
  },
  {
   "cell_type": "code",
   "execution_count": null,
   "id": "d571cdbb",
   "metadata": {},
   "outputs": [],
   "source": []
  },
  {
   "cell_type": "markdown",
   "id": "9b74e507",
   "metadata": {},
   "source": [
    "# Remove"
   ]
  },
  {
   "cell_type": "markdown",
   "id": "347024d5",
   "metadata": {},
   "source": [
    "# to remove an item in a set, use the remove"
   ]
  },
  {
   "cell_type": "code",
   "execution_count": 8,
   "id": "fc36037c",
   "metadata": {},
   "outputs": [
    {
     "name": "stdout",
     "output_type": "stream",
     "text": [
      "{'35', '75'}\n"
     ]
    }
   ],
   "source": [
    "set = {\"75\",\"35\",\"95\"}\n",
    "\n",
    "set.remove(\"95\")\n",
    "\n",
    "print(set)"
   ]
  },
  {
   "cell_type": "code",
   "execution_count": null,
   "id": "b4e9788c",
   "metadata": {},
   "outputs": [],
   "source": []
  },
  {
   "cell_type": "markdown",
   "id": "60bc3572",
   "metadata": {},
   "source": [
    "# Union"
   ]
  },
  {
   "cell_type": "markdown",
   "id": "7717ccfb",
   "metadata": {},
   "source": [
    "# the union method returns a new set with all items from both sets"
   ]
  },
  {
   "cell_type": "code",
   "execution_count": 11,
   "id": "d4b04862",
   "metadata": {},
   "outputs": [],
   "source": [
    "set1 = {\"a\", \"b\", \"c\"}\n",
    "set2 = {1, 2, 3}"
   ]
  },
  {
   "cell_type": "code",
   "execution_count": 14,
   "id": "9797aa81",
   "metadata": {},
   "outputs": [
    {
     "name": "stdout",
     "output_type": "stream",
     "text": [
      "{1, 'c', 2, 3, 'b', 'a'}\n"
     ]
    }
   ],
   "source": [
    "set3 = set1.union(set2)\n",
    "print(set3)"
   ]
  },
  {
   "cell_type": "code",
   "execution_count": 16,
   "id": "9e0add4e",
   "metadata": {},
   "outputs": [
    {
     "name": "stdout",
     "output_type": "stream",
     "text": [
      "{1, 'c', 2, 3, 'b', 'a'}\n"
     ]
    }
   ],
   "source": [
    "set1 = {\"a\", \"b\", \"c\"}\n",
    "set2 = {1, 2, 3}\n",
    "\n",
    "set3 = set1|set2\n",
    "print(set3)"
   ]
  },
  {
   "cell_type": "code",
   "execution_count": null,
   "id": "c530e4a9",
   "metadata": {},
   "outputs": [],
   "source": []
  },
  {
   "cell_type": "markdown",
   "id": "9970eebd",
   "metadata": {},
   "source": [
    "# Differnce"
   ]
  },
  {
   "cell_type": "markdown",
   "id": "35ca2ec4",
   "metadata": {},
   "source": [
    "# it returns a new set with elements that are in the set but not in the others"
   ]
  },
  {
   "cell_type": "code",
   "execution_count": 17,
   "id": "2728b49d",
   "metadata": {},
   "outputs": [],
   "source": [
    "a1 = {10,20,50}\n",
    "a2 = {40,30,50}"
   ]
  },
  {
   "cell_type": "code",
   "execution_count": 18,
   "id": "d7154231",
   "metadata": {},
   "outputs": [
    {
     "data": {
      "text/plain": [
       "{10, 20}"
      ]
     },
     "execution_count": 18,
     "metadata": {},
     "output_type": "execute_result"
    }
   ],
   "source": [
    "a1.difference(a2)"
   ]
  },
  {
   "cell_type": "code",
   "execution_count": 19,
   "id": "5c3a8295",
   "metadata": {},
   "outputs": [
    {
     "data": {
      "text/plain": [
       "{30, 40}"
      ]
     },
     "execution_count": 19,
     "metadata": {},
     "output_type": "execute_result"
    }
   ],
   "source": [
    "a2.difference(a1)"
   ]
  },
  {
   "cell_type": "code",
   "execution_count": null,
   "id": "20b9c495",
   "metadata": {},
   "outputs": [],
   "source": []
  },
  {
   "cell_type": "markdown",
   "id": "c8f89083",
   "metadata": {},
   "source": [
    "# Intersection"
   ]
  },
  {
   "cell_type": "markdown",
   "id": "9e4be6a9",
   "metadata": {},
   "source": [
    "# it returns a new set with elements comon to the set and all others"
   ]
  },
  {
   "cell_type": "code",
   "execution_count": 25,
   "id": "c298e071",
   "metadata": {},
   "outputs": [
    {
     "name": "stdout",
     "output_type": "stream",
     "text": [
      "{'apple'}\n"
     ]
    }
   ],
   "source": [
    "set1 = {\"apple\",\"banana\",\"cherry\"}\n",
    "set2 = {\"google\",\"microsoft\",\"apple\"}\n",
    "      \n",
    "set3 = set1.intersection(set2)\n",
    "print(set3)"
   ]
  },
  {
   "cell_type": "code",
   "execution_count": null,
   "id": "4280af2f",
   "metadata": {},
   "outputs": [],
   "source": [
    "\n"
   ]
  }
 ],
 "metadata": {
  "kernelspec": {
   "display_name": "Python 3 (ipykernel)",
   "language": "python",
   "name": "python3"
  },
  "language_info": {
   "codemirror_mode": {
    "name": "ipython",
    "version": 3
   },
   "file_extension": ".py",
   "mimetype": "text/x-python",
   "name": "python",
   "nbconvert_exporter": "python",
   "pygments_lexer": "ipython3",
   "version": "3.11.7"
  }
 },
 "nbformat": 4,
 "nbformat_minor": 5
}
