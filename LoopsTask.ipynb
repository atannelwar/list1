{
 "cells": [
  {
   "cell_type": "markdown",
   "id": "d49dc890",
   "metadata": {},
   "source": [
    "# Loops"
   ]
  },
  {
   "cell_type": "markdown",
   "id": "69400eaf",
   "metadata": {},
   "source": [
    "# While Loop"
   ]
  },
  {
   "cell_type": "markdown",
   "id": "6981ae52",
   "metadata": {},
   "source": [
    "* with the while loop we can execute a set of statement as long as a conditon is true."
   ]
  },
  {
   "cell_type": "code",
   "execution_count": 7,
   "id": "bc02aae2",
   "metadata": {},
   "outputs": [
    {
     "name": "stdout",
     "output_type": "stream",
     "text": [
      "1\n",
      "2\n",
      "3\n",
      "4\n",
      "5\n"
     ]
    }
   ],
   "source": [
    "i = 1\n",
    "while i < 6:\n",
    "  print(i)\n",
    "  i += 1"
   ]
  },
  {
   "cell_type": "code",
   "execution_count": null,
   "id": "05be3209",
   "metadata": {},
   "outputs": [],
   "source": []
  },
  {
   "cell_type": "markdown",
   "id": "b83d3114",
   "metadata": {},
   "source": [
    "# Break Statement"
   ]
  },
  {
   "cell_type": "markdown",
   "id": "423e20eb",
   "metadata": {},
   "source": [
    "* with the break statement we can stop the loop even if the while conditon is true."
   ]
  },
  {
   "cell_type": "code",
   "execution_count": 8,
   "id": "7e67d802",
   "metadata": {},
   "outputs": [
    {
     "name": "stdout",
     "output_type": "stream",
     "text": [
      "1\n",
      "2\n",
      "3\n"
     ]
    }
   ],
   "source": [
    "i = 1\n",
    "while i < 6:\n",
    "    print(i)\n",
    "    if i == 3:\n",
    "        break\n",
    "    i += 1"
   ]
  },
  {
   "cell_type": "code",
   "execution_count": null,
   "id": "abceab23",
   "metadata": {},
   "outputs": [],
   "source": []
  },
  {
   "cell_type": "markdown",
   "id": "f8c9dde8",
   "metadata": {},
   "source": [
    "# continue statement"
   ]
  },
  {
   "cell_type": "markdown",
   "id": "b3cf92c1",
   "metadata": {},
   "source": [
    "* the continue statement we can stop the current iteration, and continue with the next."
   ]
  },
  {
   "cell_type": "code",
   "execution_count": 9,
   "id": "d8db3849",
   "metadata": {},
   "outputs": [
    {
     "name": "stdout",
     "output_type": "stream",
     "text": [
      "1\n",
      "2\n",
      "4\n",
      "5\n",
      "6\n"
     ]
    }
   ],
   "source": [
    "i = 0\n",
    "while i < 6:\n",
    "    i += 1\n",
    "    if i == 3:\n",
    "        continue\n",
    "    print(i)"
   ]
  },
  {
   "cell_type": "code",
   "execution_count": null,
   "id": "e55f4b04",
   "metadata": {},
   "outputs": [],
   "source": []
  },
  {
   "cell_type": "markdown",
   "id": "b61f7ed5",
   "metadata": {},
   "source": [
    "# else statement"
   ]
  },
  {
   "cell_type": "markdown",
   "id": "65f87ef5",
   "metadata": {},
   "source": [
    "* the else statement we can run a block of code once when the conditon no longer is true"
   ]
  },
  {
   "cell_type": "code",
   "execution_count": 10,
   "id": "104aafa4",
   "metadata": {},
   "outputs": [
    {
     "name": "stdout",
     "output_type": "stream",
     "text": [
      "1\n",
      "2\n",
      "3\n",
      "4\n",
      "5\n",
      "i is no longer less than 6\n"
     ]
    }
   ],
   "source": [
    "i = 1\n",
    "while i < 6:\n",
    "    print(i)\n",
    "    i += 1\n",
    "else:\n",
    "    print(\"i is no longer less than 6\")"
   ]
  },
  {
   "cell_type": "code",
   "execution_count": null,
   "id": "f6ab6dd5",
   "metadata": {},
   "outputs": [],
   "source": []
  },
  {
   "cell_type": "markdown",
   "id": "5b11ebab",
   "metadata": {},
   "source": [
    "# For Loops"
   ]
  },
  {
   "cell_type": "markdown",
   "id": "9c96a5ec",
   "metadata": {},
   "source": [
    "* for loop we can execute a set of statements, once ofr each item in a list,tuple,set etc"
   ]
  },
  {
   "cell_type": "code",
   "execution_count": 11,
   "id": "eec735c2",
   "metadata": {},
   "outputs": [
    {
     "name": "stdout",
     "output_type": "stream",
     "text": [
      "mango\n",
      "chiku\n",
      "apple\n"
     ]
    }
   ],
   "source": [
    "fruits = [\"mango\",\"chiku\",\"apple\"]\n",
    "for x in fruits:\n",
    "    print(x)"
   ]
  },
  {
   "cell_type": "code",
   "execution_count": null,
   "id": "1da4ad1a",
   "metadata": {},
   "outputs": [],
   "source": []
  },
  {
   "cell_type": "markdown",
   "id": "d7005b35",
   "metadata": {},
   "source": [
    "# looping through a string"
   ]
  },
  {
   "cell_type": "markdown",
   "id": "6bd394f6",
   "metadata": {},
   "source": [
    "* even string are iterable objects,they contain a sequence of characters."
   ]
  },
  {
   "cell_type": "code",
   "execution_count": 12,
   "id": "8bec6a59",
   "metadata": {},
   "outputs": [
    {
     "name": "stdout",
     "output_type": "stream",
     "text": [
      "w\n",
      "a\n",
      "t\n",
      "e\n",
      "r\n",
      "m\n",
      "e\n",
      "l\n",
      "o\n",
      "n\n"
     ]
    }
   ],
   "source": [
    "for x in \"watermelon\":\n",
    "    print(x)"
   ]
  },
  {
   "cell_type": "code",
   "execution_count": null,
   "id": "f50e83c4",
   "metadata": {},
   "outputs": [],
   "source": []
  },
  {
   "cell_type": "markdown",
   "id": "20b94526",
   "metadata": {},
   "source": [
    "# break statement"
   ]
  },
  {
   "cell_type": "markdown",
   "id": "70794e0e",
   "metadata": {},
   "source": [
    "* break statement we can stop the loop before it has looped through all the items"
   ]
  },
  {
   "cell_type": "code",
   "execution_count": 13,
   "id": "def6ff27",
   "metadata": {},
   "outputs": [
    {
     "name": "stdout",
     "output_type": "stream",
     "text": [
      "mango\n",
      "watermelon\n"
     ]
    }
   ],
   "source": [
    "fruits = [\"mango\",\"watermelon\",\"chiku\"]\n",
    "for x in fruits:\n",
    "    print(x)\n",
    "    if x == \"watermelon\":\n",
    "        break"
   ]
  },
  {
   "cell_type": "code",
   "execution_count": null,
   "id": "9280d101",
   "metadata": {},
   "outputs": [],
   "source": []
  },
  {
   "cell_type": "markdown",
   "id": "fb2aa4bf",
   "metadata": {},
   "source": [
    "# nested loops"
   ]
  },
  {
   "cell_type": "markdown",
   "id": "00aa229d",
   "metadata": {},
   "source": [
    "* a nested loop is a loop inside a loop"
   ]
  },
  {
   "cell_type": "code",
   "execution_count": 17,
   "id": "96aa4e1c",
   "metadata": {},
   "outputs": [
    {
     "name": "stdout",
     "output_type": "stream",
     "text": [
      "green mango\n",
      "green apple\n",
      "green watermelon\n",
      "small mango\n",
      "small apple\n",
      "small watermelon\n",
      "yummy mango\n",
      "yummy apple\n",
      "yummy watermelon\n"
     ]
    }
   ],
   "source": [
    "adj = [\"green\",\"small\",\"yummy\"]\n",
    "fruits = [\"mango\",\"apple\",\"watermelon\"]\n",
    "\n",
    "for x in adj:\n",
    "    for y in fruits:\n",
    "        print(x,y)"
   ]
  },
  {
   "cell_type": "code",
   "execution_count": null,
   "id": "60b0aed2",
   "metadata": {},
   "outputs": [],
   "source": []
  }
 ],
 "metadata": {
  "kernelspec": {
   "display_name": "Python 3 (ipykernel)",
   "language": "python",
   "name": "python3"
  },
  "language_info": {
   "codemirror_mode": {
    "name": "ipython",
    "version": 3
   },
   "file_extension": ".py",
   "mimetype": "text/x-python",
   "name": "python",
   "nbconvert_exporter": "python",
   "pygments_lexer": "ipython3",
   "version": "3.11.7"
  }
 },
 "nbformat": 4,
 "nbformat_minor": 5
}
