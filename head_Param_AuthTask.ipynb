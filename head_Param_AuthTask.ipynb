{
 "cells": [
  {
   "cell_type": "code",
   "execution_count": 20,
   "metadata": {},
   "outputs": [
    {
     "name": "stdout",
     "output_type": "stream",
     "text": [
      "<!DOCTYPE html><html lang=\"en-US\"><head><title>Just a moment...</title><meta http-equiv=\"Content-Type\" content=\"text/html; charset=UTF-8\"><meta http-equiv=\"X-UA-Compatible\" content=\"IE=Edge\"><meta name=\"robots\" content=\"noindex,nofollow\"><meta name=\"viewport\" content=\"width=device-width,initial-scale=1\"><style>*{box-sizing:border-box;margin:0;padding:0}html{line-height:1.15;-webkit-text-size-adjust:100%;color:#313131}button,html{font-family:system-ui,-apple-system,BlinkMacSystemFont,Segoe UI,Roboto,Helvetica Neue,Arial,Noto Sans,sans-serif,Apple Color Emoji,Segoe UI Emoji,Segoe UI Symbol,Noto Color Emoji}@media (prefers-color-scheme:dark){body{background-color:#222;color:#d9d9d9}body a{color:#fff}body a:hover{color:#ee730a;text-decoration:underline}body .lds-ring div{border-color:#999 transparent transparent}body .font-red{color:#b20f03}body .pow-button{background-color:#4693ff;color:#1d1d1d}body #challenge-success-text{background-image:url(data:image/svg+xml;base64,PHN2ZyB4bWxucz0iaHR0cDovL3d3dy53My5vcmcvMjAwMC9zdmciIHdpZHRoPSIzMiIgaGVpZ2h0PSIzMiIgZmlsbD0ibm9uZSIgdmlld0JveD0iMCAwIDI2IDI2Ij48cGF0aCBmaWxsPSIjZDlkOWQ5IiBkPSJNMTMgMGExMyAxMyAwIDEgMCAwIDI2IDEzIDEzIDAgMCAwIDAtMjZtMCAyNGExMSAxMSAwIDEgMSAwLTIyIDExIDExIDAgMCAxIDAgMjIiLz48cGF0aCBmaWxsPSIjZDlkOWQ5IiBkPSJtMTAuOTU1IDE2LjA1NS0zLjk1LTQuMTI1LTEuNDQ1IDEuMzg1IDUuMzcgNS42MSA5LjQ5NS05LjYtMS40Mi0xLjQwNXoiLz48L3N2Zz4=)}body #challenge-error-text{background-image:url(data:image/svg+xml;base64,PHN2ZyB4bWxucz0iaHR0cDovL3d3dy53My5vcmcvMjAwMC9zdmciIHdpZHRoPSIzMiIgaGVpZ2h0PSIzMiIgZmlsbD0ibm9uZSI+PHBhdGggZmlsbD0iI0IyMEYwMyIgZD0iTTE2IDNhMTMgMTMgMCAxIDAgMTMgMTNBMTMuMDE1IDEzLjAxNSAwIDAgMCAxNiAzbTAgMjRhMTEgMTEgMCAxIDEgMTEtMTEgMTEuMDEgMTEuMDEgMCAwIDEtMTEgMTEiLz48cGF0aCBmaWxsPSIjQjIwRjAzIiBkPSJNMTcuMDM4IDE4LjYxNUgxNC44N0wxNC41NjMgOS41aDIuNzgzem0tMS4wODQgMS40MjdxLjY2IDAgMS4wNTcuMzg4LjQwNy4zODkuNDA3Ljk5NCAwIC41OTYtLjQwNy45ODQtLjM5Ny4zOS0xLjA1Ny4zODktLjY1IDAtMS4wNTYtLjM4OS0uMzk4LS4zODktLjM5OC0uOTg0IDAtLjU5Ny4zOTgtLjk4NS40MDYtLjM5NyAxLjA1Ni0uMzk3Ii8+PC9zdmc+)}}body{display:flex;flex-direction:column;min-height:100vh}body.no-js .loading-spinner{visibility:hidden}body.no-js .challenge-running{display:none}body.dark{background-color:#222;color:#d9d9d9}body.dark a{color:#fff}body.dark a:hover{color:#ee730a;text-decoration:underline}body.dark .lds-ring div{border-color:#999 transparent transparent}body.dark .font-red{color:#b20f03}body.dark .pow-button{background-color:#4693ff;color:#1d1d1d}body.dark #challenge-success-text{background-image:url(data:image/svg+xml;base64,PHN2ZyB4bWxucz0iaHR0cDovL3d3dy53My5vcmcvMjAwMC9zdmciIHdpZHRoPSIzMiIgaGVpZ2h0PSIzMiIgZmlsbD0ibm9uZSIgdmlld0JveD0iMCAwIDI2IDI2Ij48cGF0aCBmaWxsPSIjZDlkOWQ5IiBkPSJNMTMgMGExMyAxMyAwIDEgMCAwIDI2IDEzIDEzIDAgMCAwIDAtMjZtMCAyNGExMSAxMSAwIDEgMSAwLTIyIDExIDExIDAgMCAxIDAgMjIiLz48cGF0aCBmaWxsPSIjZDlkOWQ5IiBkPSJtMTAuOTU1IDE2LjA1NS0zLjk1LTQuMTI1LTEuNDQ1IDEuMzg1IDUuMzcgNS42MSA5LjQ5NS05LjYtMS40Mi0xLjQwNXoiLz48L3N2Zz4=)}body.dark #challenge-error-text{background-image:url(data:image/svg+xml;base64,PHN2ZyB4bWxucz0iaHR0cDovL3d3dy53My5vcmcvMjAwMC9zdmciIHdpZHRoPSIzMiIgaGVpZ2h0PSIzMiIgZmlsbD0ibm9uZSI+PHBhdGggZmlsbD0iI0IyMEYwMyIgZD0iTTE2IDNhMTMgMTMgMCAxIDAgMTMgMTNBMTMuMDE1IDEzLjAxNSAwIDAgMCAxNiAzbTAgMjRhMTEgMTEgMCAxIDEgMTEtMTEgMTEuMDEgMTEuMDEgMCAwIDEtMTEgMTEiLz48cGF0aCBmaWxsPSIjQjIwRjAzIiBkPSJNMTcuMDM4IDE4LjYxNUgxNC44N0wxNC41NjMgOS41aDIuNzgzem0tMS4wODQgMS40MjdxLjY2IDAgMS4wNTcuMzg4LjQwNy4zODkuNDA3Ljk5NCAwIC41OTYtLjQwNy45ODQtLjM5Ny4zOS0xLjA1Ny4zODktLjY1IDAtMS4wNTYtLjM4OS0uMzk4LS4zODktLjM5OC0uOTg0IDAtLjU5Ny4zOTgtLjk4NS40MDYtLjM5NyAxLjA1Ni0uMzk3Ii8+PC9zdmc+)}body.light{background-color:transparent;color:#313131}body.light a{color:#0051c3}body.light a:hover{color:#ee730a;text-decoration:underline}body.light .lds-ring div{border-color:#595959 transparent transparent}body.light .font-red{color:#fc574a}body.light .pow-button{background-color:#003681;border-color:#003681;color:#fff}body.light #challenge-success-text{background-image:url(data:image/svg+xml;base64,PHN2ZyB4bWxucz0iaHR0cDovL3d3dy53My5vcmcvMjAwMC9zdmciIHdpZHRoPSIzMiIgaGVpZ2h0PSIzMiIgZmlsbD0ibm9uZSIgdmlld0JveD0iMCAwIDI2IDI2Ij48cGF0aCBmaWxsPSIjMzEzMTMxIiBkPSJNMTMgMGExMyAxMyAwIDEgMCAwIDI2IDEzIDEzIDAgMCAwIDAtMjZtMCAyNGExMSAxMSAwIDEgMSAwLTIyIDExIDExIDAgMCAxIDAgMjIiLz48cGF0aCBmaWxsPSIjMzEzMTMxIiBkPSJtMTAuOTU1IDE2LjA1NS0zLjk1LTQuMTI1LTEuNDQ1IDEuMzg1IDUuMzcgNS42MSA5LjQ5NS05LjYtMS40Mi0xLjQwNXoiLz48L3N2Zz4=)}body.light #challenge-error-text{background-image:url(data:image/svg+xml;base64,PHN2ZyB4bWxucz0iaHR0cDovL3d3dy53My5vcmcvMjAwMC9zdmciIHdpZHRoPSIzMiIgaGVpZ2h0PSIzMiIgZmlsbD0ibm9uZSI+PHBhdGggZmlsbD0iI2ZjNTc0YSIgZD0iTTE2IDNhMTMgMTMgMCAxIDAgMTMgMTNBMTMuMDE1IDEzLjAxNSAwIDAgMCAxNiAzbTAgMjRhMTEgMTEgMCAxIDEgMTEtMTEgMTEuMDEgMTEuMDEgMCAwIDEtMTEgMTEiLz48cGF0aCBmaWxsPSIjZmM1NzRhIiBkPSJNMTcuMDM4IDE4LjYxNUgxNC44N0wxNC41NjMgOS41aDIuNzgzem0tMS4wODQgMS40MjdxLjY2IDAgMS4wNTcuMzg4LjQwNy4zODkuNDA3Ljk5NCAwIC41OTYtLjQwNy45ODQtLjM5Ny4zOS0xLjA1Ny4zODktLjY1IDAtMS4wNTYtLjM4OS0uMzk4LS4zODktLjM5OC0uOTg0IDAtLjU5Ny4zOTgtLjk4NS40MDYtLjM5NyAxLjA1Ni0uMzk3Ii8+PC9zdmc+)}a{background-color:transparent;color:#0051c3;text-decoration:none;transition:color .15s ease}a:hover{color:#ee730a;text-decoration:underline}.main-content{margin:8rem auto;max-width:60rem;width:100%}.heading-favicon{height:2rem;margin-right:.5rem;width:2rem}@media (width <= 720px){.main-content{margin-top:4rem}.heading-favicon{height:1.5rem;width:1.5rem}}.footer,.main-content{padding-left:1.5rem;padding-right:1.5rem}.main-wrapper{align-items:center;display:flex;flex:1;flex-direction:column}.font-red{color:#b20f03}.spacer{margin:2rem 0}.h1{font-size:2.5rem;font-weight:500;line-height:3.75rem}.h2{font-weight:500}.core-msg,.h2{font-size:1.5rem;line-height:2.25rem}.body-text,.core-msg{font-weight:400}.body-text{font-size:1rem;line-height:1.25rem}@media (width <= 720px){.h1{font-size:1.5rem;line-height:1.75rem}.h2{font-size:1.25rem}.core-msg,.h2{line-height:1.5rem}.core-msg{font-size:1rem}}#challenge-error-text{background-image:url(data:image/svg+xml;base64,PHN2ZyB4bWxucz0iaHR0cDovL3d3dy53My5vcmcvMjAwMC9zdmciIHdpZHRoPSIzMiIgaGVpZ2h0PSIzMiIgZmlsbD0ibm9uZSI+PHBhdGggZmlsbD0iI2ZjNTc0YSIgZD0iTTE2IDNhMTMgMTMgMCAxIDAgMTMgMTNBMTMuMDE1IDEzLjAxNSAwIDAgMCAxNiAzbTAgMjRhMTEgMTEgMCAxIDEgMTEtMTEgMTEuMDEgMTEuMDEgMCAwIDEtMTEgMTEiLz48cGF0aCBmaWxsPSIjZmM1NzRhIiBkPSJNMTcuMDM4IDE4LjYxNUgxNC44N0wxNC41NjMgOS41aDIuNzgzem0tMS4wODQgMS40MjdxLjY2IDAgMS4wNTcuMzg4LjQwNy4zODkuNDA3Ljk5NCAwIC41OTYtLjQwNy45ODQtLjM5Ny4zOS0xLjA1Ny4zODktLjY1IDAtMS4wNTYtLjM4OS0uMzk4LS4zODktLjM5OC0uOTg0IDAtLjU5Ny4zOTgtLjk4NS40MDYtLjM5NyAxLjA1Ni0uMzk3Ii8+PC9zdmc+);padding-left:34px}#challenge-error-text,#challenge-success-text{background-repeat:no-repeat;background-size:contain}#challenge-success-text{background-image:url(data:image/svg+xml;base64,PHN2ZyB4bWxucz0iaHR0cDovL3d3dy53My5vcmcvMjAwMC9zdmciIHdpZHRoPSIzMiIgaGVpZ2h0PSIzMiIgZmlsbD0ibm9uZSIgdmlld0JveD0iMCAwIDI2IDI2Ij48cGF0aCBmaWxsPSIjMzEzMTMxIiBkPSJNMTMgMGExMyAxMyAwIDEgMCAwIDI2IDEzIDEzIDAgMCAwIDAtMjZtMCAyNGExMSAxMSAwIDEgMSAwLTIyIDExIDExIDAgMCAxIDAgMjIiLz48cGF0aCBmaWxsPSIjMzEzMTMxIiBkPSJtMTAuOTU1IDE2LjA1NS0zLjk1LTQuMTI1LTEuNDQ1IDEuMzg1IDUuMzcgNS42MSA5LjQ5NS05LjYtMS40Mi0xLjQwNXoiLz48L3N2Zz4=);padding-left:42px}.text-center{text-align:center}.pow-button{background-color:#0051c3;border:.063rem solid #0051c3;border-radius:.313rem;color:#fff;font-size:.875rem;line-height:1.313rem;margin:2rem 0;padding:.375rem 1rem;transition-duration:.2s;transition-property:background-color,border-color,color;transition-timing-function:ease}.pow-button:hover{background-color:#003681;border-color:#003681;color:#fff;cursor:pointer}.footer{font-size:.75rem;line-height:1.125rem;margin:0 auto;max-width:60rem;width:100%}.footer-inner{border-top:1px solid #d9d9d9;padding-bottom:1rem;padding-top:1rem}.clearfix:after{clear:both;content:\"\";display:table}.clearfix .column{float:left;padding-right:1.5rem;width:50%}.diagnostic-wrapper{margin-bottom:.5rem}.footer .ray-id{text-align:center}.footer .ray-id code{font-family:monaco,courier,monospace}.core-msg,.zone-name-title{overflow-wrap:break-word}@media (width <= 720px){.diagnostic-wrapper{display:flex;flex-wrap:wrap;justify-content:center}.clearfix:after{clear:none;content:none;display:initial;text-align:center}.column{padding-bottom:2rem}.clearfix .column{float:none;padding:0;width:auto;word-break:keep-all}.zone-name-title{margin-bottom:1rem}}.loading-spinner{height:76.391px}.lds-ring{display:inline-block;position:relative}.lds-ring,.lds-ring div{height:1.875rem;width:1.875rem}.lds-ring div{animation:lds-ring 1.2s cubic-bezier(.5,0,.5,1) infinite;border:.3rem solid transparent;border-radius:50%;border-top-color:#313131;box-sizing:border-box;display:block;position:absolute}.lds-ring div:first-child{animation-delay:-.45s}.lds-ring div:nth-child(2){animation-delay:-.3s}.lds-ring div:nth-child(3){animation-delay:-.15s}@keyframes lds-ring{0%{transform:rotate(0)}to{transform:rotate(1turn)}}@media screen and (-ms-high-contrast:active),screen and (-ms-high-contrast:none){.main-wrapper,body{display:block}}.rtl .heading-favicon{margin-left:.5rem;margin-right:0}.rtl #challenge-success-text{background-position:100%;padding-left:0;padding-right:42px}.rtl #challenge-error-text{background-position:100%;padding-left:0;padding-right:34px}</style><meta http-equiv=\"refresh\" content=\"375\"></head><body class=\"no-js\"><div class=\"main-wrapper\" role=\"main\"><div class=\"main-content\"><noscript><div id=\"challenge-error-title\"><div class=\"h2\"><span id=\"challenge-error-text\">Enable JavaScript and cookies to continue</span></div></div></noscript></div></div><script>(function(){window._cf_chl_opt={cvId: '3',cZone: \"www.meesho.com\",cType: 'managed',cNounce: '38020',cRay: '889fbf570b23f35f',cHash: '6ae5266302bf198',cUPMDTk: \"\\/accessories-men\\/pl\\/3tp?__cf_chl_tk=hREL_gRtcgxpk7CAkGT02QHmGp1GEKcyIOB.y4GX8ek-1716747293-0.0.1.1-1685\",cFPWv: 'b',cTTimeMs: '1000',cMTimeMs: '375000',cTplV: 5,cTplB: 'cf',cK: \"visitor-time\",fa: \"\\/accessories-men\\/pl\\/3tp?__cf_chl_f_tk=hREL_gRtcgxpk7CAkGT02QHmGp1GEKcyIOB.y4GX8ek-1716747293-0.0.1.1-1685\",md: \"2FRsOopLJcoqlO0jiAlmKLbJf_9vpZ5wXFBxkaS4mu0-1716747293-1.1.1.1-YwDL4Y0wMlFHyucptAX5nAMGG2SjliAiMtPMAyp1vVEeY0ju2pc23ervUkjIvmba2_f.NeFQvFKYup00tyU_YN7Ef3T216AdierWtq9WMmMYs5.J3KnRXtP__CtO5AWB3u3ofiYf9hJrevdvVLfx_qKF0SHaNkVAivpHilPuv_JyCvLy71QkvZrjGNPzsJEthkpjyPDrw5ArmF6h4l5iPFkg59KHUOlgiRWWXG40CBk_C.aLKkp6K.vswgIDsTGfIvCfh9Pc.153dG.TTu0rzdBR3WoMdNlSHzkOLIXBGWHn7fNhgw9.3t_IMhsyO2DSTwMUhHPAx.77s8zX_bDILvXQTbEQGU3FhSc20xfwtqMKErzVjpSUc8RIWXNEHY8dD4ZowKERVUv1csGAHMcMOT8dE_r1EYRizBUhOddnLx0Q4jyZ7J8mm6OeryQs9eDf31Ohhh3Vv51PI_GWG4GCAQgAswmX.76u7xBGUL0QunnO5njG671ATDSQVP4ycfoRLnQDNHBUjHsgHpXhmCkIzP3ljuSEKMgMDX4LsGrGaoblvecdoWpn7bcDb_CdTbwEqDldq.pUM1nEpay.1Ec9zb0K6TIhd.h3vUay1l0gx8AHgVqK83BZ9Pp37a5mXpMtNIaTt1O_v8vIWwhvmUpa5kVi1dtTX0W3K.h5Sfqc1iwjN5Fp6aD3wYvTPtJ3yqR4rD5nt7z1CF9i8UeO6.LmLB6VSmJSWYSKMAZMZn85Wq1a31djKrVCMx7_jL6yVpdoDZwFgbmkpgf1NCJB4JOjneHupG41Jm_JR4ThWoRyIeyuUv1NkGh19JtvJC0P.5l5SspOnAIK1ioxBoHhBKwTVhPbgChOnqEmJ1yDHaFyAxDS5q.gavkxda46yA_6Gu36b2sLDM2zinVySRcmfCMWyQzrgP09J9v7iXQ57kr5meGpyuEcQJ2vMP15c9niDzh8mVTogUBuD_5f7WUy.oKaTfc00gxkReHmVXqUP6txX2M3UVoB5Uu_D5_kbdFTrWXBgVcDISCHVoXd63RKuVX0sS21OHo9G.ItVnUub.GoWW3ain0Q7Zv7I_QNgYFeMJ2ABDiF6_syW1xX5ykO8wL2RDvDrdd0zex1Ag0zdiC3ve_D_zBzA3vwaDSQi1RwXTzJC37em1MCPiEHgVbQxMS2K0oGEEH3mKYzhVgFwDJKuAFRfxHLH2x6IPg.tpQfBkZkiUs2d9rqBXT1LHjs.gd4GCA3pTC26t855gS4cow2n6.VVo6nW4KsW3KpQZC6Wg.TuKcfQsjwzbDLX0JtCqwSTaoT6l4c7xtJ8Oe3oBcNDXXXxPm4M.3VGKIlTSBp03WwDxslm6gmrVlido4cUoJNYdbIUs41HRDmwbsT9osSglL2YUq8hyETlbPc1fqsciW.ZqnbAj41gLrMass6l_Lb8UBoEjhIFHC6WGUK_jnS9oP1ALKxp6CUwccykuJE0yL6LJsWbNw.u3LFUSSW3Ts7O5KKPmMNyGgavFLdHATGppXLwBjrGEp6eqnDBqWvXMoCHT_ehDqDqCIpOLHHsG5HDFvFZxPwsRcvkMWKinGS_j9VsiP.o_2di9CiN_fhYDOIPl4qXkOgrgf1nVe5IssEOw\",mdrd: \"1PRN6sw8Jk2X.v3NpZM6x41AoO.6Hv_tAxcNhHJrJpE-1716747293-1.1.1.1-puAVgGZCcXXoh3tNiYthXmdqZD1ZKQq5vCjGmAQXdboPFvjG_w_8eR14c7RjrtOosn21Obwh5zpVWGcPZKlCoeupodo7eLD0usiMS4zzdGP5wCBK77h6Sr9ArvXiGL5jKdgOGbCDUSrAYCU86HFbCMPEcL0qr4bP4n6.IK84qyEJVww.LNrFu67UWJQkfLQs9hcGSEh1mwPwbTZf1q6rVgX.p6rTuRmE9tpUnkiLnV9zAggFLYGE.Bv_gVvya8YiDKp854ad7sTgA5T_drXBSDJcBwQe8VyCpA51MXTEMRzVpv83pu6BdGtULZC_SVDEXrG5TC0.aKMWmVH7JsSMBHnoUcAQkdk.o6AIgEB5mFQHTwSYFsb69eW.aZnGu2xOQ18esN_Fpkh4ZQriD_d2bfoXwgyVespukDD3lfNWHOyp7lNvjEa3xk3T5S1stWIdgO1ILDBx91Blk96f_gkYlN3QNgdQs.U.XRMTWMFngukaWruGRIEwGWkzQB1h8hLLau6gPv8hc1mnq2LA..JsH5_FKm_1eRbVC.1WQwKg_xBkmqSfdYSpQMLD14aw3t0auV_x9OWeoFnzeRgA2HzNan8PfBfirFUAKI5ITn5iru8fhmqdJMnRPcIZ0yIsg4kl3mVxAvH.0wN5hc1lVA5oUoB7IHOF5_60MRZK9JaaY1GapzfOaui5ekjHgfSsITzqatZTkNIYW56n9r9kZop434U3Qh_zcv6fK3.OPcQpiRALOlZtYTXtAnoooXfPdfKAW5lPiaFjUiRWZITqNt419w7PDedDF2o2OyJRn9dEa1LQcEnMCb20i.sYXpBhAj3LQUjQmwttFYIwQ.9mzFkgRgZenRQn7XjYXCxX9s1zDuxyiNeKXOW3X_C7u.QFFrI6ElRjmwxfscicj9JptitmheIfJpDUUJQPpDyZbeloAbFUQhLKxymMNKcgSydXWSkHqmypdHap6VbxXB50DF1DXtEnmSAe0AUY97D1LipxRqK7KL4LGxcbL5fMubJZVbCkxa83SlKag_DGTuZjGS5NPsJ.iNGZuAJ95wpeHCHQKYzt3lG0yzLXlIno5XvGlaP6QipVDD_GDa8xqunhkbg73UUHQt11AfYUelxFNblUJ9o7XSCm1xXnS77AgjU1GIBbilLpuvkRJmvN6dwXf0A.9MWls5nbRmkmlYRUmQffAmD_aZL5BgOjDe8UUFxItTQwXPoK7u6xtwrwGkjuQN2KrfXiiNw7njf1Uxt70dC71sHh7DCbMHjNrjlu1TMm96._7lLESF1.tAxw_2nrpMDIzRLF5D3FakYj12IUe.y0rMBUMJQlro6F6wf3pauZlmCLGgn07VzBrBblj9.C6aZtq_GvxcX8i6LCsPc1sg.S48cePkT2x0NwPFNAP2MtzDJ020FlZLobdZYFqUupAhyYy8ZFT23bHV58fdhgwiOEN7zIRLEjIJROdn._DFn0IpUCb0QsqUOp3xbEQnkmeY6Yjjk5Abz6utEQhERQ.jOiwhyCb_13gmC5KOSYj275ft6bO7NGXQ9jrBZXWdDcizQwgrmy5Z9yp8s2iPyIsh5jcYGJAeL8txwKnz3luE3ra_bLza_vTmj6.8HwR8bFWi1Mpvf2P5.eVgVhpcByA_ozly9zU7REkGxJ20R_s5dMJkZgrjp.CYPUMp3eqEqcohY7WDLt.0tM8ECYe_f6J6YcRVUI2ZXSGu7lzpp.IrHj4Phme4piEDZFdju5itlFdqsudX5TdJhLZWpnTpECG9EjTmGIod3mnL3GD5pWUD0GgbLBVi3m8c8S8DFPtkfo5KM3D._UH9B.r5cMS.q9N9RJSn6fp3CZOCiilgZ39mB62NjsTOrY_uRlcq3inYxh29vpkAp0luUqu41fael1SNtD4HTm_fGAlgCej0k0zRuLkyje3uUP0Ez9orZ3M2cCPILFaYyscPcO5omxJY4_ih3.zwXeZFrbtQk9zgYsHIO.i73jkLiiYZccIHFhHaVxeDDTqQObK2Z4ou26z8YnlPIwVj541X9Xv5RHpheE4gsz9Zdluct5XLWbgCDi9qmbfWL8Qe5rTQp.Sl3W2jxSNNUdgYG0ca19oQyc4dzKe3x7NjX.IiqzBH5GVpXvekB2W8dkTrbRHd99w2kKGIQgDjyFBi0\",cRq: {ru: 'aHR0cHM6Ly93d3cubWVlc2hvLmNvbS9hY2Nlc3Nvcmllcy1tZW4vcGwvM3Rw',ra: 'cHl0aG9uLXJlcXVlc3RzLzIuMzEuMA==',rm: 'R0VU',d: 'OGEOVPhWWn9yRKuBIcP0laOHBSowQUtSiQE/lWztO4UEQUEHD4lrvdjy9rONTyYfYuIa/esRtfih2SWsmwGNTTMxBZPZNx7TIxVi9RYR7ZfCoE2epxSG58zuaX3/rB5/52bWPgfMrr3+uZNwoJpnPH6dlrYkHnM0r3tOPD05bSS6uTZYJwyKb5FhhSXT0LfPOTG4w75fVB8ZFwGKxlHsnAPxUeKvZgmsCKVExHKMtB0hsvZ7+WT4TC41KJRed5lgRS7b1WSgWnkyqxnyw1nd4fjpqlV/3XDo3c98IAODukSJ8Bjh5BUhgyts5f9BwAxZfFQlalBYyuDkLfmx14UZ2dANnjYD7AFmG4OZAe1tyRxGWi4kiAAbItdC3RaW7jGIkhxJlLLUMiKHdE0dSwUoSanpIiWSVi6+dr2MEfYabzVkff6tXHr/3B0rqvQObFY1baRb3lY+Y52yBS6K8a1RTO4N8lYuOQK4RKGfd3RQNFoK7vvBgXwDrDSocHeg1gLMo2ECtzCaPhiwL+yghcpwq1hRElkW+4OxnWp9kszDls7JdwoZsHiIUW6kNgGkZM70L42fI19IZ10rwtly2R1UeEfJ+XRncxELcOrXvTwrDUQ=',t: 'MTcxNjc0NzI5My4yOTcwMDA=',cT: Math.floor(Date.now() / 1000),m: 'jsa1eK4aAxmEatz60uHvczdDwoELk97oS6wMgL4Y12c=',i1: 'kd77yBxvqOFdXDvsMnnk0g==',i2: 'QC37IJO7VSo7NB0qGmdotg==',zh: 'y5LBRIapGkKMzhZ0bNjgJ7LdoioTUlggZfkgnNU3ihc=',uh: 'YE9XOpG5TeHmhA1zfs5mxC8CrRZzq2a/+r+OU7dliYQ=',hh: '7PxFw2PDF7g7I15E41bLcZDq9st2lF+rhTuq2nNy5wY=',}};var cpo = document.createElement('script');cpo.src = '/cdn-cgi/challenge-platform/h/b/orchestrate/chl_page/v1?ray=889fbf570b23f35f';window._cf_chl_opt.cOgUHash = location.hash === '' && location.href.indexOf('#') !== -1 ? '#' : location.hash;window._cf_chl_opt.cOgUQuery = location.search === '' && location.href.slice(0, location.href.length - window._cf_chl_opt.cOgUHash.length).indexOf('?') !== -1 ? '?' : location.search;if (window.history && window.history.replaceState) {var ogU = location.pathname + window._cf_chl_opt.cOgUQuery + window._cf_chl_opt.cOgUHash;history.replaceState(null, null, \"\\/accessories-men\\/pl\\/3tp?__cf_chl_rt_tk=hREL_gRtcgxpk7CAkGT02QHmGp1GEKcyIOB.y4GX8ek-1716747293-0.0.1.1-1685\" + window._cf_chl_opt.cOgUHash);cpo.onload = function() {history.replaceState(null, null, ogU);}}document.getElementsByTagName('head')[0].appendChild(cpo);}());</script></body></html>\n"
     ]
    }
   ],
   "source": [
    "import requests as rq\n",
    "\n",
    "url = 'https://www.meesho.com/accessories-men/pl/3tp'\n",
    "\n",
    "rResp = rq.get(url)\n",
    "\n",
    "print(rResp.content.decode('utf-8'))"
   ]
  },
  {
   "cell_type": "code",
   "execution_count": 21,
   "metadata": {},
   "outputs": [
    {
     "name": "stdout",
     "output_type": "stream",
     "text": [
      "<Response [403]>\n"
     ]
    }
   ],
   "source": [
    "print(rResp)"
   ]
  },
  {
   "cell_type": "code",
   "execution_count": 22,
   "metadata": {},
   "outputs": [
    {
     "data": {
      "text/plain": [
       "403"
      ]
     },
     "execution_count": 22,
     "metadata": {},
     "output_type": "execute_result"
    }
   ],
   "source": [
    "rResp.status_code"
   ]
  },
  {
   "cell_type": "code",
   "execution_count": 23,
   "metadata": {},
   "outputs": [
    {
     "name": "stdout",
     "output_type": "stream",
     "text": [
      "<!DOCTYPE html><html lang=\"en-US\"><head><title>Just a moment...</title><meta http-equiv=\"Content-Type\" content=\"text/html; charset=UTF-8\"><meta http-equiv=\"X-UA-Compatible\" content=\"IE=Edge\"><meta name=\"robots\" content=\"noindex,nofollow\"><meta name=\"viewport\" content=\"width=device-width,initial-scale=1\"><style>*{box-sizing:border-box;margin:0;padding:0}html{line-height:1.15;-webkit-text-size-adjust:100%;color:#313131}button,html{font-family:system-ui,-apple-system,BlinkMacSystemFont,Segoe UI,Roboto,Helvetica Neue,Arial,Noto Sans,sans-serif,Apple Color Emoji,Segoe UI Emoji,Segoe UI Symbol,Noto Color Emoji}@media (prefers-color-scheme:dark){body{background-color:#222;color:#d9d9d9}body a{color:#fff}body a:hover{color:#ee730a;text-decoration:underline}body .lds-ring div{border-color:#999 transparent transparent}body .font-red{color:#b20f03}body .pow-button{background-color:#4693ff;color:#1d1d1d}body #challenge-success-text{background-image:url(data:image/svg+xml;base64,PHN2ZyB4bWxucz0iaHR0cDovL3d3dy53My5vcmcvMjAwMC9zdmciIHdpZHRoPSIzMiIgaGVpZ2h0PSIzMiIgZmlsbD0ibm9uZSIgdmlld0JveD0iMCAwIDI2IDI2Ij48cGF0aCBmaWxsPSIjZDlkOWQ5IiBkPSJNMTMgMGExMyAxMyAwIDEgMCAwIDI2IDEzIDEzIDAgMCAwIDAtMjZtMCAyNGExMSAxMSAwIDEgMSAwLTIyIDExIDExIDAgMCAxIDAgMjIiLz48cGF0aCBmaWxsPSIjZDlkOWQ5IiBkPSJtMTAuOTU1IDE2LjA1NS0zLjk1LTQuMTI1LTEuNDQ1IDEuMzg1IDUuMzcgNS42MSA5LjQ5NS05LjYtMS40Mi0xLjQwNXoiLz48L3N2Zz4=)}body #challenge-error-text{background-image:url(data:image/svg+xml;base64,PHN2ZyB4bWxucz0iaHR0cDovL3d3dy53My5vcmcvMjAwMC9zdmciIHdpZHRoPSIzMiIgaGVpZ2h0PSIzMiIgZmlsbD0ibm9uZSI+PHBhdGggZmlsbD0iI0IyMEYwMyIgZD0iTTE2IDNhMTMgMTMgMCAxIDAgMTMgMTNBMTMuMDE1IDEzLjAxNSAwIDAgMCAxNiAzbTAgMjRhMTEgMTEgMCAxIDEgMTEtMTEgMTEuMDEgMTEuMDEgMCAwIDEtMTEgMTEiLz48cGF0aCBmaWxsPSIjQjIwRjAzIiBkPSJNMTcuMDM4IDE4LjYxNUgxNC44N0wxNC41NjMgOS41aDIuNzgzem0tMS4wODQgMS40MjdxLjY2IDAgMS4wNTcuMzg4LjQwNy4zODkuNDA3Ljk5NCAwIC41OTYtLjQwNy45ODQtLjM5Ny4zOS0xLjA1Ny4zODktLjY1IDAtMS4wNTYtLjM4OS0uMzk4LS4zODktLjM5OC0uOTg0IDAtLjU5Ny4zOTgtLjk4NS40MDYtLjM5NyAxLjA1Ni0uMzk3Ii8+PC9zdmc+)}}body{display:flex;flex-direction:column;min-height:100vh}body.no-js .loading-spinner{visibility:hidden}body.no-js .challenge-running{display:none}body.dark{background-color:#222;color:#d9d9d9}body.dark a{color:#fff}body.dark a:hover{color:#ee730a;text-decoration:underline}body.dark .lds-ring div{border-color:#999 transparent transparent}body.dark .font-red{color:#b20f03}body.dark .pow-button{background-color:#4693ff;color:#1d1d1d}body.dark #challenge-success-text{background-image:url(data:image/svg+xml;base64,PHN2ZyB4bWxucz0iaHR0cDovL3d3dy53My5vcmcvMjAwMC9zdmciIHdpZHRoPSIzMiIgaGVpZ2h0PSIzMiIgZmlsbD0ibm9uZSIgdmlld0JveD0iMCAwIDI2IDI2Ij48cGF0aCBmaWxsPSIjZDlkOWQ5IiBkPSJNMTMgMGExMyAxMyAwIDEgMCAwIDI2IDEzIDEzIDAgMCAwIDAtMjZtMCAyNGExMSAxMSAwIDEgMSAwLTIyIDExIDExIDAgMCAxIDAgMjIiLz48cGF0aCBmaWxsPSIjZDlkOWQ5IiBkPSJtMTAuOTU1IDE2LjA1NS0zLjk1LTQuMTI1LTEuNDQ1IDEuMzg1IDUuMzcgNS42MSA5LjQ5NS05LjYtMS40Mi0xLjQwNXoiLz48L3N2Zz4=)}body.dark #challenge-error-text{background-image:url(data:image/svg+xml;base64,PHN2ZyB4bWxucz0iaHR0cDovL3d3dy53My5vcmcvMjAwMC9zdmciIHdpZHRoPSIzMiIgaGVpZ2h0PSIzMiIgZmlsbD0ibm9uZSI+PHBhdGggZmlsbD0iI0IyMEYwMyIgZD0iTTE2IDNhMTMgMTMgMCAxIDAgMTMgMTNBMTMuMDE1IDEzLjAxNSAwIDAgMCAxNiAzbTAgMjRhMTEgMTEgMCAxIDEgMTEtMTEgMTEuMDEgMTEuMDEgMCAwIDEtMTEgMTEiLz48cGF0aCBmaWxsPSIjQjIwRjAzIiBkPSJNMTcuMDM4IDE4LjYxNUgxNC44N0wxNC41NjMgOS41aDIuNzgzem0tMS4wODQgMS40MjdxLjY2IDAgMS4wNTcuMzg4LjQwNy4zODkuNDA3Ljk5NCAwIC41OTYtLjQwNy45ODQtLjM5Ny4zOS0xLjA1Ny4zODktLjY1IDAtMS4wNTYtLjM4OS0uMzk4LS4zODktLjM5OC0uOTg0IDAtLjU5Ny4zOTgtLjk4NS40MDYtLjM5NyAxLjA1Ni0uMzk3Ii8+PC9zdmc+)}body.light{background-color:transparent;color:#313131}body.light a{color:#0051c3}body.light a:hover{color:#ee730a;text-decoration:underline}body.light .lds-ring div{border-color:#595959 transparent transparent}body.light .font-red{color:#fc574a}body.light .pow-button{background-color:#003681;border-color:#003681;color:#fff}body.light #challenge-success-text{background-image:url(data:image/svg+xml;base64,PHN2ZyB4bWxucz0iaHR0cDovL3d3dy53My5vcmcvMjAwMC9zdmciIHdpZHRoPSIzMiIgaGVpZ2h0PSIzMiIgZmlsbD0ibm9uZSIgdmlld0JveD0iMCAwIDI2IDI2Ij48cGF0aCBmaWxsPSIjMzEzMTMxIiBkPSJNMTMgMGExMyAxMyAwIDEgMCAwIDI2IDEzIDEzIDAgMCAwIDAtMjZtMCAyNGExMSAxMSAwIDEgMSAwLTIyIDExIDExIDAgMCAxIDAgMjIiLz48cGF0aCBmaWxsPSIjMzEzMTMxIiBkPSJtMTAuOTU1IDE2LjA1NS0zLjk1LTQuMTI1LTEuNDQ1IDEuMzg1IDUuMzcgNS42MSA5LjQ5NS05LjYtMS40Mi0xLjQwNXoiLz48L3N2Zz4=)}body.light #challenge-error-text{background-image:url(data:image/svg+xml;base64,PHN2ZyB4bWxucz0iaHR0cDovL3d3dy53My5vcmcvMjAwMC9zdmciIHdpZHRoPSIzMiIgaGVpZ2h0PSIzMiIgZmlsbD0ibm9uZSI+PHBhdGggZmlsbD0iI2ZjNTc0YSIgZD0iTTE2IDNhMTMgMTMgMCAxIDAgMTMgMTNBMTMuMDE1IDEzLjAxNSAwIDAgMCAxNiAzbTAgMjRhMTEgMTEgMCAxIDEgMTEtMTEgMTEuMDEgMTEuMDEgMCAwIDEtMTEgMTEiLz48cGF0aCBmaWxsPSIjZmM1NzRhIiBkPSJNMTcuMDM4IDE4LjYxNUgxNC44N0wxNC41NjMgOS41aDIuNzgzem0tMS4wODQgMS40MjdxLjY2IDAgMS4wNTcuMzg4LjQwNy4zODkuNDA3Ljk5NCAwIC41OTYtLjQwNy45ODQtLjM5Ny4zOS0xLjA1Ny4zODktLjY1IDAtMS4wNTYtLjM4OS0uMzk4LS4zODktLjM5OC0uOTg0IDAtLjU5Ny4zOTgtLjk4NS40MDYtLjM5NyAxLjA1Ni0uMzk3Ii8+PC9zdmc+)}a{background-color:transparent;color:#0051c3;text-decoration:none;transition:color .15s ease}a:hover{color:#ee730a;text-decoration:underline}.main-content{margin:8rem auto;max-width:60rem;width:100%}.heading-favicon{height:2rem;margin-right:.5rem;width:2rem}@media (width <= 720px){.main-content{margin-top:4rem}.heading-favicon{height:1.5rem;width:1.5rem}}.footer,.main-content{padding-left:1.5rem;padding-right:1.5rem}.main-wrapper{align-items:center;display:flex;flex:1;flex-direction:column}.font-red{color:#b20f03}.spacer{margin:2rem 0}.h1{font-size:2.5rem;font-weight:500;line-height:3.75rem}.h2{font-weight:500}.core-msg,.h2{font-size:1.5rem;line-height:2.25rem}.body-text,.core-msg{font-weight:400}.body-text{font-size:1rem;line-height:1.25rem}@media (width <= 720px){.h1{font-size:1.5rem;line-height:1.75rem}.h2{font-size:1.25rem}.core-msg,.h2{line-height:1.5rem}.core-msg{font-size:1rem}}#challenge-error-text{background-image:url(data:image/svg+xml;base64,PHN2ZyB4bWxucz0iaHR0cDovL3d3dy53My5vcmcvMjAwMC9zdmciIHdpZHRoPSIzMiIgaGVpZ2h0PSIzMiIgZmlsbD0ibm9uZSI+PHBhdGggZmlsbD0iI2ZjNTc0YSIgZD0iTTE2IDNhMTMgMTMgMCAxIDAgMTMgMTNBMTMuMDE1IDEzLjAxNSAwIDAgMCAxNiAzbTAgMjRhMTEgMTEgMCAxIDEgMTEtMTEgMTEuMDEgMTEuMDEgMCAwIDEtMTEgMTEiLz48cGF0aCBmaWxsPSIjZmM1NzRhIiBkPSJNMTcuMDM4IDE4LjYxNUgxNC44N0wxNC41NjMgOS41aDIuNzgzem0tMS4wODQgMS40MjdxLjY2IDAgMS4wNTcuMzg4LjQwNy4zODkuNDA3Ljk5NCAwIC41OTYtLjQwNy45ODQtLjM5Ny4zOS0xLjA1Ny4zODktLjY1IDAtMS4wNTYtLjM4OS0uMzk4LS4zODktLjM5OC0uOTg0IDAtLjU5Ny4zOTgtLjk4NS40MDYtLjM5NyAxLjA1Ni0uMzk3Ii8+PC9zdmc+);padding-left:34px}#challenge-error-text,#challenge-success-text{background-repeat:no-repeat;background-size:contain}#challenge-success-text{background-image:url(data:image/svg+xml;base64,PHN2ZyB4bWxucz0iaHR0cDovL3d3dy53My5vcmcvMjAwMC9zdmciIHdpZHRoPSIzMiIgaGVpZ2h0PSIzMiIgZmlsbD0ibm9uZSIgdmlld0JveD0iMCAwIDI2IDI2Ij48cGF0aCBmaWxsPSIjMzEzMTMxIiBkPSJNMTMgMGExMyAxMyAwIDEgMCAwIDI2IDEzIDEzIDAgMCAwIDAtMjZtMCAyNGExMSAxMSAwIDEgMSAwLTIyIDExIDExIDAgMCAxIDAgMjIiLz48cGF0aCBmaWxsPSIjMzEzMTMxIiBkPSJtMTAuOTU1IDE2LjA1NS0zLjk1LTQuMTI1LTEuNDQ1IDEuMzg1IDUuMzcgNS42MSA5LjQ5NS05LjYtMS40Mi0xLjQwNXoiLz48L3N2Zz4=);padding-left:42px}.text-center{text-align:center}.pow-button{background-color:#0051c3;border:.063rem solid #0051c3;border-radius:.313rem;color:#fff;font-size:.875rem;line-height:1.313rem;margin:2rem 0;padding:.375rem 1rem;transition-duration:.2s;transition-property:background-color,border-color,color;transition-timing-function:ease}.pow-button:hover{background-color:#003681;border-color:#003681;color:#fff;cursor:pointer}.footer{font-size:.75rem;line-height:1.125rem;margin:0 auto;max-width:60rem;width:100%}.footer-inner{border-top:1px solid #d9d9d9;padding-bottom:1rem;padding-top:1rem}.clearfix:after{clear:both;content:\"\";display:table}.clearfix .column{float:left;padding-right:1.5rem;width:50%}.diagnostic-wrapper{margin-bottom:.5rem}.footer .ray-id{text-align:center}.footer .ray-id code{font-family:monaco,courier,monospace}.core-msg,.zone-name-title{overflow-wrap:break-word}@media (width <= 720px){.diagnostic-wrapper{display:flex;flex-wrap:wrap;justify-content:center}.clearfix:after{clear:none;content:none;display:initial;text-align:center}.column{padding-bottom:2rem}.clearfix .column{float:none;padding:0;width:auto;word-break:keep-all}.zone-name-title{margin-bottom:1rem}}.loading-spinner{height:76.391px}.lds-ring{display:inline-block;position:relative}.lds-ring,.lds-ring div{height:1.875rem;width:1.875rem}.lds-ring div{animation:lds-ring 1.2s cubic-bezier(.5,0,.5,1) infinite;border:.3rem solid transparent;border-radius:50%;border-top-color:#313131;box-sizing:border-box;display:block;position:absolute}.lds-ring div:first-child{animation-delay:-.45s}.lds-ring div:nth-child(2){animation-delay:-.3s}.lds-ring div:nth-child(3){animation-delay:-.15s}@keyframes lds-ring{0%{transform:rotate(0)}to{transform:rotate(1turn)}}@media screen and (-ms-high-contrast:active),screen and (-ms-high-contrast:none){.main-wrapper,body{display:block}}.rtl .heading-favicon{margin-left:.5rem;margin-right:0}.rtl #challenge-success-text{background-position:100%;padding-left:0;padding-right:42px}.rtl #challenge-error-text{background-position:100%;padding-left:0;padding-right:34px}</style><meta http-equiv=\"refresh\" content=\"375\"></head><body class=\"no-js\"><div class=\"main-wrapper\" role=\"main\"><div class=\"main-content\"><noscript><div id=\"challenge-error-title\"><div class=\"h2\"><span id=\"challenge-error-text\">Enable JavaScript and cookies to continue</span></div></div></noscript></div></div><script>(function(){window._cf_chl_opt={cvId: '3',cZone: \"www.meesho.com\",cType: 'managed',cNounce: '38020',cRay: '889fbf570b23f35f',cHash: '6ae5266302bf198',cUPMDTk: \"\\/accessories-men\\/pl\\/3tp?__cf_chl_tk=hREL_gRtcgxpk7CAkGT02QHmGp1GEKcyIOB.y4GX8ek-1716747293-0.0.1.1-1685\",cFPWv: 'b',cTTimeMs: '1000',cMTimeMs: '375000',cTplV: 5,cTplB: 'cf',cK: \"visitor-time\",fa: \"\\/accessories-men\\/pl\\/3tp?__cf_chl_f_tk=hREL_gRtcgxpk7CAkGT02QHmGp1GEKcyIOB.y4GX8ek-1716747293-0.0.1.1-1685\",md: \"2FRsOopLJcoqlO0jiAlmKLbJf_9vpZ5wXFBxkaS4mu0-1716747293-1.1.1.1-YwDL4Y0wMlFHyucptAX5nAMGG2SjliAiMtPMAyp1vVEeY0ju2pc23ervUkjIvmba2_f.NeFQvFKYup00tyU_YN7Ef3T216AdierWtq9WMmMYs5.J3KnRXtP__CtO5AWB3u3ofiYf9hJrevdvVLfx_qKF0SHaNkVAivpHilPuv_JyCvLy71QkvZrjGNPzsJEthkpjyPDrw5ArmF6h4l5iPFkg59KHUOlgiRWWXG40CBk_C.aLKkp6K.vswgIDsTGfIvCfh9Pc.153dG.TTu0rzdBR3WoMdNlSHzkOLIXBGWHn7fNhgw9.3t_IMhsyO2DSTwMUhHPAx.77s8zX_bDILvXQTbEQGU3FhSc20xfwtqMKErzVjpSUc8RIWXNEHY8dD4ZowKERVUv1csGAHMcMOT8dE_r1EYRizBUhOddnLx0Q4jyZ7J8mm6OeryQs9eDf31Ohhh3Vv51PI_GWG4GCAQgAswmX.76u7xBGUL0QunnO5njG671ATDSQVP4ycfoRLnQDNHBUjHsgHpXhmCkIzP3ljuSEKMgMDX4LsGrGaoblvecdoWpn7bcDb_CdTbwEqDldq.pUM1nEpay.1Ec9zb0K6TIhd.h3vUay1l0gx8AHgVqK83BZ9Pp37a5mXpMtNIaTt1O_v8vIWwhvmUpa5kVi1dtTX0W3K.h5Sfqc1iwjN5Fp6aD3wYvTPtJ3yqR4rD5nt7z1CF9i8UeO6.LmLB6VSmJSWYSKMAZMZn85Wq1a31djKrVCMx7_jL6yVpdoDZwFgbmkpgf1NCJB4JOjneHupG41Jm_JR4ThWoRyIeyuUv1NkGh19JtvJC0P.5l5SspOnAIK1ioxBoHhBKwTVhPbgChOnqEmJ1yDHaFyAxDS5q.gavkxda46yA_6Gu36b2sLDM2zinVySRcmfCMWyQzrgP09J9v7iXQ57kr5meGpyuEcQJ2vMP15c9niDzh8mVTogUBuD_5f7WUy.oKaTfc00gxkReHmVXqUP6txX2M3UVoB5Uu_D5_kbdFTrWXBgVcDISCHVoXd63RKuVX0sS21OHo9G.ItVnUub.GoWW3ain0Q7Zv7I_QNgYFeMJ2ABDiF6_syW1xX5ykO8wL2RDvDrdd0zex1Ag0zdiC3ve_D_zBzA3vwaDSQi1RwXTzJC37em1MCPiEHgVbQxMS2K0oGEEH3mKYzhVgFwDJKuAFRfxHLH2x6IPg.tpQfBkZkiUs2d9rqBXT1LHjs.gd4GCA3pTC26t855gS4cow2n6.VVo6nW4KsW3KpQZC6Wg.TuKcfQsjwzbDLX0JtCqwSTaoT6l4c7xtJ8Oe3oBcNDXXXxPm4M.3VGKIlTSBp03WwDxslm6gmrVlido4cUoJNYdbIUs41HRDmwbsT9osSglL2YUq8hyETlbPc1fqsciW.ZqnbAj41gLrMass6l_Lb8UBoEjhIFHC6WGUK_jnS9oP1ALKxp6CUwccykuJE0yL6LJsWbNw.u3LFUSSW3Ts7O5KKPmMNyGgavFLdHATGppXLwBjrGEp6eqnDBqWvXMoCHT_ehDqDqCIpOLHHsG5HDFvFZxPwsRcvkMWKinGS_j9VsiP.o_2di9CiN_fhYDOIPl4qXkOgrgf1nVe5IssEOw\",mdrd: \"1PRN6sw8Jk2X.v3NpZM6x41AoO.6Hv_tAxcNhHJrJpE-1716747293-1.1.1.1-puAVgGZCcXXoh3tNiYthXmdqZD1ZKQq5vCjGmAQXdboPFvjG_w_8eR14c7RjrtOosn21Obwh5zpVWGcPZKlCoeupodo7eLD0usiMS4zzdGP5wCBK77h6Sr9ArvXiGL5jKdgOGbCDUSrAYCU86HFbCMPEcL0qr4bP4n6.IK84qyEJVww.LNrFu67UWJQkfLQs9hcGSEh1mwPwbTZf1q6rVgX.p6rTuRmE9tpUnkiLnV9zAggFLYGE.Bv_gVvya8YiDKp854ad7sTgA5T_drXBSDJcBwQe8VyCpA51MXTEMRzVpv83pu6BdGtULZC_SVDEXrG5TC0.aKMWmVH7JsSMBHnoUcAQkdk.o6AIgEB5mFQHTwSYFsb69eW.aZnGu2xOQ18esN_Fpkh4ZQriD_d2bfoXwgyVespukDD3lfNWHOyp7lNvjEa3xk3T5S1stWIdgO1ILDBx91Blk96f_gkYlN3QNgdQs.U.XRMTWMFngukaWruGRIEwGWkzQB1h8hLLau6gPv8hc1mnq2LA..JsH5_FKm_1eRbVC.1WQwKg_xBkmqSfdYSpQMLD14aw3t0auV_x9OWeoFnzeRgA2HzNan8PfBfirFUAKI5ITn5iru8fhmqdJMnRPcIZ0yIsg4kl3mVxAvH.0wN5hc1lVA5oUoB7IHOF5_60MRZK9JaaY1GapzfOaui5ekjHgfSsITzqatZTkNIYW56n9r9kZop434U3Qh_zcv6fK3.OPcQpiRALOlZtYTXtAnoooXfPdfKAW5lPiaFjUiRWZITqNt419w7PDedDF2o2OyJRn9dEa1LQcEnMCb20i.sYXpBhAj3LQUjQmwttFYIwQ.9mzFkgRgZenRQn7XjYXCxX9s1zDuxyiNeKXOW3X_C7u.QFFrI6ElRjmwxfscicj9JptitmheIfJpDUUJQPpDyZbeloAbFUQhLKxymMNKcgSydXWSkHqmypdHap6VbxXB50DF1DXtEnmSAe0AUY97D1LipxRqK7KL4LGxcbL5fMubJZVbCkxa83SlKag_DGTuZjGS5NPsJ.iNGZuAJ95wpeHCHQKYzt3lG0yzLXlIno5XvGlaP6QipVDD_GDa8xqunhkbg73UUHQt11AfYUelxFNblUJ9o7XSCm1xXnS77AgjU1GIBbilLpuvkRJmvN6dwXf0A.9MWls5nbRmkmlYRUmQffAmD_aZL5BgOjDe8UUFxItTQwXPoK7u6xtwrwGkjuQN2KrfXiiNw7njf1Uxt70dC71sHh7DCbMHjNrjlu1TMm96._7lLESF1.tAxw_2nrpMDIzRLF5D3FakYj12IUe.y0rMBUMJQlro6F6wf3pauZlmCLGgn07VzBrBblj9.C6aZtq_GvxcX8i6LCsPc1sg.S48cePkT2x0NwPFNAP2MtzDJ020FlZLobdZYFqUupAhyYy8ZFT23bHV58fdhgwiOEN7zIRLEjIJROdn._DFn0IpUCb0QsqUOp3xbEQnkmeY6Yjjk5Abz6utEQhERQ.jOiwhyCb_13gmC5KOSYj275ft6bO7NGXQ9jrBZXWdDcizQwgrmy5Z9yp8s2iPyIsh5jcYGJAeL8txwKnz3luE3ra_bLza_vTmj6.8HwR8bFWi1Mpvf2P5.eVgVhpcByA_ozly9zU7REkGxJ20R_s5dMJkZgrjp.CYPUMp3eqEqcohY7WDLt.0tM8ECYe_f6J6YcRVUI2ZXSGu7lzpp.IrHj4Phme4piEDZFdju5itlFdqsudX5TdJhLZWpnTpECG9EjTmGIod3mnL3GD5pWUD0GgbLBVi3m8c8S8DFPtkfo5KM3D._UH9B.r5cMS.q9N9RJSn6fp3CZOCiilgZ39mB62NjsTOrY_uRlcq3inYxh29vpkAp0luUqu41fael1SNtD4HTm_fGAlgCej0k0zRuLkyje3uUP0Ez9orZ3M2cCPILFaYyscPcO5omxJY4_ih3.zwXeZFrbtQk9zgYsHIO.i73jkLiiYZccIHFhHaVxeDDTqQObK2Z4ou26z8YnlPIwVj541X9Xv5RHpheE4gsz9Zdluct5XLWbgCDi9qmbfWL8Qe5rTQp.Sl3W2jxSNNUdgYG0ca19oQyc4dzKe3x7NjX.IiqzBH5GVpXvekB2W8dkTrbRHd99w2kKGIQgDjyFBi0\",cRq: {ru: 'aHR0cHM6Ly93d3cubWVlc2hvLmNvbS9hY2Nlc3Nvcmllcy1tZW4vcGwvM3Rw',ra: 'cHl0aG9uLXJlcXVlc3RzLzIuMzEuMA==',rm: 'R0VU',d: 'OGEOVPhWWn9yRKuBIcP0laOHBSowQUtSiQE/lWztO4UEQUEHD4lrvdjy9rONTyYfYuIa/esRtfih2SWsmwGNTTMxBZPZNx7TIxVi9RYR7ZfCoE2epxSG58zuaX3/rB5/52bWPgfMrr3+uZNwoJpnPH6dlrYkHnM0r3tOPD05bSS6uTZYJwyKb5FhhSXT0LfPOTG4w75fVB8ZFwGKxlHsnAPxUeKvZgmsCKVExHKMtB0hsvZ7+WT4TC41KJRed5lgRS7b1WSgWnkyqxnyw1nd4fjpqlV/3XDo3c98IAODukSJ8Bjh5BUhgyts5f9BwAxZfFQlalBYyuDkLfmx14UZ2dANnjYD7AFmG4OZAe1tyRxGWi4kiAAbItdC3RaW7jGIkhxJlLLUMiKHdE0dSwUoSanpIiWSVi6+dr2MEfYabzVkff6tXHr/3B0rqvQObFY1baRb3lY+Y52yBS6K8a1RTO4N8lYuOQK4RKGfd3RQNFoK7vvBgXwDrDSocHeg1gLMo2ECtzCaPhiwL+yghcpwq1hRElkW+4OxnWp9kszDls7JdwoZsHiIUW6kNgGkZM70L42fI19IZ10rwtly2R1UeEfJ+XRncxELcOrXvTwrDUQ=',t: 'MTcxNjc0NzI5My4yOTcwMDA=',cT: Math.floor(Date.now() / 1000),m: 'jsa1eK4aAxmEatz60uHvczdDwoELk97oS6wMgL4Y12c=',i1: 'kd77yBxvqOFdXDvsMnnk0g==',i2: 'QC37IJO7VSo7NB0qGmdotg==',zh: 'y5LBRIapGkKMzhZ0bNjgJ7LdoioTUlggZfkgnNU3ihc=',uh: 'YE9XOpG5TeHmhA1zfs5mxC8CrRZzq2a/+r+OU7dliYQ=',hh: '7PxFw2PDF7g7I15E41bLcZDq9st2lF+rhTuq2nNy5wY=',}};var cpo = document.createElement('script');cpo.src = '/cdn-cgi/challenge-platform/h/b/orchestrate/chl_page/v1?ray=889fbf570b23f35f';window._cf_chl_opt.cOgUHash = location.hash === '' && location.href.indexOf('#') !== -1 ? '#' : location.hash;window._cf_chl_opt.cOgUQuery = location.search === '' && location.href.slice(0, location.href.length - window._cf_chl_opt.cOgUHash.length).indexOf('?') !== -1 ? '?' : location.search;if (window.history && window.history.replaceState) {var ogU = location.pathname + window._cf_chl_opt.cOgUQuery + window._cf_chl_opt.cOgUHash;history.replaceState(null, null, \"\\/accessories-men\\/pl\\/3tp?__cf_chl_rt_tk=hREL_gRtcgxpk7CAkGT02QHmGp1GEKcyIOB.y4GX8ek-1716747293-0.0.1.1-1685\" + window._cf_chl_opt.cOgUHash);cpo.onload = function() {history.replaceState(null, null, ogU);}}document.getElementsByTagName('head')[0].appendChild(cpo);}());</script></body></html>\n"
     ]
    }
   ],
   "source": [
    "jResp =rResp.content.decode('utf-8')\n",
    "\n",
    "print(jResp)"
   ]
  },
  {
   "cell_type": "code",
   "execution_count": 37,
   "metadata": {},
   "outputs": [
    {
     "name": "stdout",
     "output_type": "stream",
     "text": [
      "Content-Type = text/html; charset=UTF-8\n",
      "Date = Sun, 26 May 2024 18:14:53 GMT\n"
     ]
    }
   ],
   "source": [
    "print(f'Content-Type = {lHeader[\"Content-Type\"]}')\n",
    "\n",
    "print(f'Date = {lHeader[\"Date\"]}')"
   ]
  },
  {
   "cell_type": "code",
   "execution_count": 52,
   "metadata": {},
   "outputs": [
    {
     "name": "stdout",
     "output_type": "stream",
     "text": [
      "<Response [403]>\n"
     ]
    }
   ],
   "source": [
    "useragent = 'Mozilla/5.0 (Windows NT 10.0; Win64; x64)'\n",
    "\n",
    "cHeader = rq.get(url, headers={'User-Agent': useragent})\n",
    "\n",
    "print(cHeader)"
   ]
  },
  {
   "cell_type": "code",
   "execution_count": 53,
   "metadata": {},
   "outputs": [
    {
     "data": {
      "text/plain": [
       "{'User-Agent': 'Mozilla/5.0 (Windows NT 10.0; Win64; x64)', 'Accept-Encoding': 'gzip, deflate, br, zstd', 'Accept': '*/*', 'Connection': 'keep-alive'}"
      ]
     },
     "execution_count": 53,
     "metadata": {},
     "output_type": "execute_result"
    }
   ],
   "source": [
    "cHeader.request.headers"
   ]
  },
  {
   "cell_type": "code",
   "execution_count": 61,
   "metadata": {},
   "outputs": [
    {
     "name": "stdout",
     "output_type": "stream",
     "text": [
      "{'mens': 'product'}\n"
     ]
    }
   ],
   "source": [
    "cUrl = 'https://www.meesho.com/accessories-men/pl/3tp'\n",
    "\n",
    "cParams = {'mens': 'product'}\n",
    "\n",
    "cResp = rq.get(cUrl)\n",
    "\n",
    "print(cParams)"
   ]
  },
  {
   "cell_type": "code",
   "execution_count": 62,
   "metadata": {},
   "outputs": [
    {
     "name": "stdout",
     "output_type": "stream",
     "text": [
      "<bound method Response.json of <Response [403]>>\n"
     ]
    }
   ],
   "source": [
    "import requests as rq\n",
    "\n",
    "cUrl ='https://www.latlong.net/'\n",
    "\n",
    "cParams ={\n",
    "    'Latitude': 6.885144,\n",
    "    'Longitude': 79.907143,\n",
    "    \n",
    "}\n",
    "rResp = rq.get(url)\n",
    "\n",
    "print(rResp.json)\n"
   ]
  },
  {
   "cell_type": "code",
   "execution_count": 63,
   "metadata": {},
   "outputs": [
    {
     "name": "stdout",
     "output_type": "stream",
     "text": [
      "<bound method Response.json of <Response [403]>>\n"
     ]
    }
   ],
   "source": [
    "cHeader = {\n",
    "    'User-Agent': 'Mozilla/5.0 (Windows NT 10.0; Win64; x64)'\n",
    "}\n",
    "cResp = rq.get(cUrl, params=cParams, headers=cHeader)\n",
    "\n",
    "print(rResp.json)\n"
   ]
  },
  {
   "cell_type": "code",
   "execution_count": 64,
   "metadata": {},
   "outputs": [
    {
     "data": {
      "text/plain": [
       "tuple"
      ]
     },
     "execution_count": 64,
     "metadata": {},
     "output_type": "execute_result"
    }
   ],
   "source": [
    "aUrl ='https://www.latlong.net/'\n",
    "\n",
    "aAuth = ('place','jaywardenepura')\n",
    "\n",
    "type(aAuth)\n"
   ]
  },
  {
   "cell_type": "code",
   "execution_count": 65,
   "metadata": {},
   "outputs": [
    {
     "name": "stdout",
     "output_type": "stream",
     "text": [
      "('place', 'jaywardenepura')\n"
     ]
    }
   ],
   "source": [
    "print(aAuth)"
   ]
  },
  {
   "cell_type": "code",
   "execution_count": 68,
   "metadata": {},
   "outputs": [],
   "source": [
    "rResp = rq.get(aUrl, auth=aAuth)"
   ]
  },
  {
   "cell_type": "code",
   "execution_count": 70,
   "metadata": {},
   "outputs": [
    {
     "name": "stdout",
     "output_type": "stream",
     "text": [
      "<Response [200]>\n"
     ]
    }
   ],
   "source": [
    "print(rResp)"
   ]
  },
  {
   "cell_type": "code",
   "execution_count": null,
   "metadata": {},
   "outputs": [],
   "source": []
  }
 ],
 "metadata": {
  "kernelspec": {
   "display_name": "base",
   "language": "python",
   "name": "python3"
  },
  "language_info": {
   "codemirror_mode": {
    "name": "ipython",
    "version": 3
   },
   "file_extension": ".py",
   "mimetype": "text/x-python",
   "name": "python",
   "nbconvert_exporter": "python",
   "pygments_lexer": "ipython3",
   "version": "3.11.7"
  }
 },
 "nbformat": 4,
 "nbformat_minor": 2
}
