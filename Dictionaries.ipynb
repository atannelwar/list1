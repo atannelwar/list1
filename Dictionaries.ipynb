{
 "cells": [
  {
   "cell_type": "markdown",
   "id": "8f10a3fe",
   "metadata": {},
   "source": [
    "# Dictionaries"
   ]
  },
  {
   "cell_type": "markdown",
   "id": "c47f24a6",
   "metadata": {},
   "source": [
    "# dictionary"
   ]
  },
  {
   "cell_type": "markdown",
   "id": "1760ec62",
   "metadata": {},
   "source": [
    "# dictonaries are used to store data values in key value  pair"
   ]
  },
  {
   "cell_type": "code",
   "execution_count": 1,
   "id": "934ebc49",
   "metadata": {},
   "outputs": [
    {
     "name": "stdout",
     "output_type": "stream",
     "text": [
      "{'brand': 'suzuki', 'model': ' dezire', 'year': 2022}\n"
     ]
    }
   ],
   "source": [
    "dict = {\n",
    "    \"brand\": \"suzuki\",\n",
    "    \"model\": \" dezire\",\n",
    "    \"year\": 2022\n",
    "}\n",
    "print(dict)"
   ]
  },
  {
   "cell_type": "markdown",
   "id": "b33a82c8",
   "metadata": {},
   "source": [
    "# Items"
   ]
  },
  {
   "cell_type": "markdown",
   "id": "e3af675b",
   "metadata": {},
   "source": [
    "# dictionary items are prensented in key value pairs and can ve referred to by usint the key name"
   ]
  },
  {
   "cell_type": "code",
   "execution_count": 6,
   "id": "10c8f461",
   "metadata": {},
   "outputs": [
    {
     "name": "stdout",
     "output_type": "stream",
     "text": [
      "suzuki\n"
     ]
    }
   ],
   "source": [
    "dict = {\n",
    "    \"brand\": \"suzuki\",\n",
    "    \"model\": \"dezire\",\n",
    "    \"year\": 2022\n",
    "}\n",
    "print(dict[\"brand\"])"
   ]
  },
  {
   "cell_type": "code",
   "execution_count": null,
   "id": "43b5a1f2",
   "metadata": {},
   "outputs": [],
   "source": []
  },
  {
   "cell_type": "markdown",
   "id": "00d82e55",
   "metadata": {},
   "source": [
    "# type()"
   ]
  },
  {
   "cell_type": "markdown",
   "id": "c4502486",
   "metadata": {},
   "source": [
    "# from python perspetive, dictionries are defined as objects with the data type dict"
   ]
  },
  {
   "cell_type": "code",
   "execution_count": 7,
   "id": "bf3d7bd6",
   "metadata": {},
   "outputs": [
    {
     "name": "stdout",
     "output_type": "stream",
     "text": [
      "<class 'dict'>\n"
     ]
    }
   ],
   "source": [
    "dict = {\n",
    "    \"brand\": \"suzuki\",\n",
    "    \"model\": \"dezire\",\n",
    "    \"year\": 2022\n",
    "}\n",
    "print(type(dict))"
   ]
  },
  {
   "cell_type": "code",
   "execution_count": null,
   "id": "be8460f6",
   "metadata": {},
   "outputs": [],
   "source": [
    "\n",
    "            "
   ]
  },
  {
   "cell_type": "markdown",
   "id": "ba3edd33",
   "metadata": {},
   "source": [
    "# length"
   ]
  },
  {
   "cell_type": "markdown",
   "id": "5296e489",
   "metadata": {},
   "source": [
    "# to determine how many items a dictionry has use the len function"
   ]
  },
  {
   "cell_type": "code",
   "execution_count": 25,
   "id": "1ea73ffa",
   "metadata": {},
   "outputs": [
    {
     "name": "stdout",
     "output_type": "stream",
     "text": [
      "3\n"
     ]
    }
   ],
   "source": [
    "dict = {\n",
    "    \"brand\": \"suzuki\",\n",
    "    \"model\": \" dizire\",\n",
    "    \"year\": 2020,\n",
    "    \"year\": 2022\n",
    "}\n",
    "print(len(dict))"
   ]
  },
  {
   "cell_type": "markdown",
   "id": "e2ce7016",
   "metadata": {},
   "source": [
    "# Duplicate not allowwed"
   ]
  },
  {
   "cell_type": "markdown",
   "id": "efdf49c3",
   "metadata": {},
   "source": [
    "# dictionaries cannot have two items with the same key"
   ]
  },
  {
   "cell_type": "code",
   "execution_count": 27,
   "id": "d57c433c",
   "metadata": {},
   "outputs": [
    {
     "name": "stdout",
     "output_type": "stream",
     "text": [
      "{'brand': 'suzuki', 'model': 'dezire', 'year': 2020}\n"
     ]
    }
   ],
   "source": [
    "dict = {\n",
    "    \"brand\": \"suzuki\",\n",
    "    \"model\": \"dezire\",\n",
    "    \"year\": 2022,\n",
    "    \"year\": 2020\n",
    "}\n",
    "print(dict)"
   ]
  },
  {
   "cell_type": "code",
   "execution_count": null,
   "id": "86959fc4",
   "metadata": {},
   "outputs": [],
   "source": []
  },
  {
   "cell_type": "markdown",
   "id": "d6de78c1",
   "metadata": {},
   "source": [
    "# Accessing"
   ]
  },
  {
   "cell_type": "markdown",
   "id": "09c684e7",
   "metadata": {},
   "source": [
    "# you can access the items of a dictionry by referring to itskey name inside square brackets"
   ]
  },
  {
   "cell_type": "code",
   "execution_count": 29,
   "id": "d32ff89f",
   "metadata": {},
   "outputs": [
    {
     "name": "stdout",
     "output_type": "stream",
     "text": [
      "dezire\n"
     ]
    }
   ],
   "source": [
    "dict = {\n",
    "    \"brand\": \"suzuki\",\n",
    "    \"model\": \"dezire\",\n",
    "    \"year\" : 2022\n",
    "}\n",
    "x = dict[\"model\"]\n",
    "print(x)"
   ]
  },
  {
   "cell_type": "code",
   "execution_count": null,
   "id": "66164481",
   "metadata": {},
   "outputs": [],
   "source": []
  },
  {
   "cell_type": "markdown",
   "id": "006f239b",
   "metadata": {},
   "source": [
    "# Get"
   ]
  },
  {
   "cell_type": "markdown",
   "id": "309a4fc6",
   "metadata": {},
   "source": [
    "# there is also a method called get that will give you the same result"
   ]
  },
  {
   "cell_type": "code",
   "execution_count": 30,
   "id": "d2d59526",
   "metadata": {},
   "outputs": [],
   "source": [
    "dict = {\n",
    "    \"brand\": \"suziki\",\n",
    "    \"model\": \"dezire\",\n",
    "    \"year\": 2022\n",
    "}\n",
    "x = dict.get(\"model\")"
   ]
  },
  {
   "cell_type": "code",
   "execution_count": 31,
   "id": "4f56511b",
   "metadata": {},
   "outputs": [
    {
     "name": "stdout",
     "output_type": "stream",
     "text": [
      "dezire\n"
     ]
    }
   ],
   "source": [
    "print(x)"
   ]
  },
  {
   "cell_type": "code",
   "execution_count": null,
   "id": "b9125e02",
   "metadata": {},
   "outputs": [],
   "source": []
  },
  {
   "cell_type": "markdown",
   "id": "4bd8cf8f",
   "metadata": {},
   "source": [
    "# Values"
   ]
  },
  {
   "cell_type": "markdown",
   "id": "4a476375",
   "metadata": {},
   "source": [
    "# the values method will  return a list of all the values in the dictionary"
   ]
  },
  {
   "cell_type": "code",
   "execution_count": 33,
   "id": "20fdc12e",
   "metadata": {},
   "outputs": [
    {
     "name": "stdout",
     "output_type": "stream",
     "text": [
      "dict_values(['suzuki', 'dezire', 2022])\n"
     ]
    }
   ],
   "source": [
    "dict = {\n",
    "    \"model\": \"suzuki\",\n",
    "    \"brand\": \"dezire\",\n",
    "    \"year\": 2022\n",
    "}\n",
    "\n",
    "x = dict.values()\n",
    "\n",
    "print(x)"
   ]
  },
  {
   "cell_type": "code",
   "execution_count": null,
   "id": "22ed287a",
   "metadata": {},
   "outputs": [],
   "source": []
  },
  {
   "cell_type": "markdown",
   "id": "00437890",
   "metadata": {},
   "source": [
    "# change"
   ]
  },
  {
   "cell_type": "markdown",
   "id": "9106e768",
   "metadata": {},
   "source": [
    "# you can change the value of a specific item by referrrring to its key name"
   ]
  },
  {
   "cell_type": "code",
   "execution_count": 34,
   "id": "a8645df7",
   "metadata": {},
   "outputs": [
    {
     "name": "stdout",
     "output_type": "stream",
     "text": [
      "{'model': 'suzuki', 'brand': 'dezire', 'year': 2024}\n"
     ]
    }
   ],
   "source": [
    "dict = {\n",
    "    \"model\": \"suzuki\",\n",
    "    \"brand\": \"dezire\",\n",
    "    \"year\": 2022\n",
    "}\n",
    "\n",
    "dict[\"year\"]= 2024\n",
    "\n",
    "print(dict)"
   ]
  },
  {
   "cell_type": "code",
   "execution_count": null,
   "id": "2b55d728",
   "metadata": {},
   "outputs": [],
   "source": []
  },
  {
   "cell_type": "markdown",
   "id": "c0a9d763",
   "metadata": {},
   "source": [
    "# Update()"
   ]
  },
  {
   "cell_type": "markdown",
   "id": "97b23938",
   "metadata": {},
   "source": [
    "# update the year of the car by uaing update method"
   ]
  },
  {
   "cell_type": "code",
   "execution_count": 38,
   "id": "7482c1fc",
   "metadata": {},
   "outputs": [],
   "source": [
    "dict ={\n",
    "    \"brand\": \"suzuki\",\n",
    "    \"model\": \"dezire\",\n",
    "    \"year\": 2022\n",
    "}\n",
    "dict.update({\"year\": 2024})"
   ]
  },
  {
   "cell_type": "code",
   "execution_count": 39,
   "id": "1f16b198",
   "metadata": {},
   "outputs": [
    {
     "name": "stdout",
     "output_type": "stream",
     "text": [
      "{'brand': 'suzuki', 'model': 'dezire', 'year': 2024}\n"
     ]
    }
   ],
   "source": [
    "print(dict)"
   ]
  },
  {
   "cell_type": "code",
   "execution_count": null,
   "id": "a2517068",
   "metadata": {},
   "outputs": [],
   "source": []
  }
 ],
 "metadata": {
  "kernelspec": {
   "display_name": "Python 3 (ipykernel)",
   "language": "python",
   "name": "python3"
  },
  "language_info": {
   "codemirror_mode": {
    "name": "ipython",
    "version": 3
   },
   "file_extension": ".py",
   "mimetype": "text/x-python",
   "name": "python",
   "nbconvert_exporter": "python",
   "pygments_lexer": "ipython3",
   "version": "3.11.7"
  }
 },
 "nbformat": 4,
 "nbformat_minor": 5
}
